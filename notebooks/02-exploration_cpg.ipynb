{
 "cells": [
  {
   "attachments": {},
   "cell_type": "markdown",
   "metadata": {},
   "source": [
    "# Exploración de datos TCGA-BRCA 27K"
   ]
  },
  {
   "attachments": {},
   "cell_type": "markdown",
   "metadata": {},
   "source": [
    "## Importar librerías y definir paths"
   ]
  },
  {
   "cell_type": "code",
   "execution_count": 1,
   "metadata": {},
   "outputs": [],
   "source": [
    "import sys\n",
    "from pathlib import Path\n",
    "\n",
    "src_path = str(Path.cwd().parents[0] / \"src\")\n",
    "if src_path not in sys.path:\n",
    "    sys.path.append(src_path)"
   ]
  },
  {
   "cell_type": "code",
   "execution_count": 20,
   "metadata": {},
   "outputs": [],
   "source": [
    "import pandas as pd\n",
    "import plotly.express as px\n",
    "import plotly.graph_objects as go\n",
    "import matplotlib.pyplot as plt\n",
    "from pathlib import Path\n",
    "from collections import Counter\n",
    "from eda_utils import violin_plot\n",
    "\n",
    "data_preprocessed_path = str(Path.cwd().parents[0] / \"data\"/ \"preprocessed\")\n",
    "data_raw_path = str(Path.cwd().parents[0] / \"data\" / \"raw\")"
   ]
  },
  {
   "attachments": {},
   "cell_type": "markdown",
   "metadata": {},
   "source": [
    "## Lectura"
   ]
  },
  {
   "cell_type": "code",
   "execution_count": 3,
   "metadata": {},
   "outputs": [
    {
     "data": {
      "text/html": [
       "<div>\n",
       "<style scoped>\n",
       "    .dataframe tbody tr th:only-of-type {\n",
       "        vertical-align: middle;\n",
       "    }\n",
       "\n",
       "    .dataframe tbody tr th {\n",
       "        vertical-align: top;\n",
       "    }\n",
       "\n",
       "    .dataframe thead th {\n",
       "        text-align: right;\n",
       "    }\n",
       "</style>\n",
       "<table border=\"1\" class=\"dataframe\">\n",
       "  <thead>\n",
       "    <tr style=\"text-align: right;\">\n",
       "      <th></th>\n",
       "      <th>cg22501393</th>\n",
       "      <th>cg18895155</th>\n",
       "      <th>cg15264255</th>\n",
       "      <th>cg18464559</th>\n",
       "      <th>cg20379125</th>\n",
       "      <th>cg12790134</th>\n",
       "      <th>cg07697569</th>\n",
       "      <th>cg13613532</th>\n",
       "      <th>cg13951948</th>\n",
       "      <th>cg06590533</th>\n",
       "      <th>...</th>\n",
       "      <th>cg10265786</th>\n",
       "      <th>cg26848248</th>\n",
       "      <th>cg09906309</th>\n",
       "      <th>file_id</th>\n",
       "      <th>size</th>\n",
       "      <th>disease</th>\n",
       "      <th>sample_type</th>\n",
       "      <th>age</th>\n",
       "      <th>race</th>\n",
       "      <th>etnia</th>\n",
       "    </tr>\n",
       "  </thead>\n",
       "  <tbody>\n",
       "    <tr>\n",
       "      <th>0</th>\n",
       "      <td>0.028667</td>\n",
       "      <td>0.012232</td>\n",
       "      <td>0.142088</td>\n",
       "      <td>0.016443</td>\n",
       "      <td>0.015846</td>\n",
       "      <td>0.117437</td>\n",
       "      <td>0.041592</td>\n",
       "      <td>0.024423</td>\n",
       "      <td>0.008772</td>\n",
       "      <td>0.014977</td>\n",
       "      <td>...</td>\n",
       "      <td>0.010114</td>\n",
       "      <td>0.022962</td>\n",
       "      <td>0.024748</td>\n",
       "      <td>fc6a1b6d-894e-4da5-be37-2b0b76770ab1</td>\n",
       "      <td>769178</td>\n",
       "      <td>Ductal and Lobular Neoplasms</td>\n",
       "      <td>Primary Tumor</td>\n",
       "      <td>28974.0</td>\n",
       "      <td>white</td>\n",
       "      <td>not hispanic or latino</td>\n",
       "    </tr>\n",
       "    <tr>\n",
       "      <th>1</th>\n",
       "      <td>0.029441</td>\n",
       "      <td>0.014666</td>\n",
       "      <td>0.106937</td>\n",
       "      <td>0.017454</td>\n",
       "      <td>0.016934</td>\n",
       "      <td>0.012831</td>\n",
       "      <td>0.018839</td>\n",
       "      <td>0.011539</td>\n",
       "      <td>0.010769</td>\n",
       "      <td>0.015953</td>\n",
       "      <td>...</td>\n",
       "      <td>0.010052</td>\n",
       "      <td>0.021182</td>\n",
       "      <td>0.028579</td>\n",
       "      <td>d42a557d-a77d-4f6b-8fb9-b5b6f4b3ea87</td>\n",
       "      <td>771468</td>\n",
       "      <td>Ductal and Lobular Neoplasms</td>\n",
       "      <td>Primary Tumor</td>\n",
       "      <td>20152.0</td>\n",
       "      <td>white</td>\n",
       "      <td>not hispanic or latino</td>\n",
       "    </tr>\n",
       "    <tr>\n",
       "      <th>2</th>\n",
       "      <td>0.034916</td>\n",
       "      <td>0.018333</td>\n",
       "      <td>0.113594</td>\n",
       "      <td>0.016953</td>\n",
       "      <td>0.018574</td>\n",
       "      <td>0.017720</td>\n",
       "      <td>0.019870</td>\n",
       "      <td>0.024152</td>\n",
       "      <td>0.008728</td>\n",
       "      <td>0.018683</td>\n",
       "      <td>...</td>\n",
       "      <td>0.010444</td>\n",
       "      <td>0.020363</td>\n",
       "      <td>0.029775</td>\n",
       "      <td>04e87399-3399-4fd9-93a0-7b8b4953c0c7</td>\n",
       "      <td>774870</td>\n",
       "      <td>Ductal and Lobular Neoplasms</td>\n",
       "      <td>Primary Tumor</td>\n",
       "      <td>25259.0</td>\n",
       "      <td>white</td>\n",
       "      <td>not reported</td>\n",
       "    </tr>\n",
       "    <tr>\n",
       "      <th>3</th>\n",
       "      <td>0.025584</td>\n",
       "      <td>0.014079</td>\n",
       "      <td>0.065338</td>\n",
       "      <td>0.018666</td>\n",
       "      <td>0.147531</td>\n",
       "      <td>0.109610</td>\n",
       "      <td>0.018852</td>\n",
       "      <td>0.021281</td>\n",
       "      <td>0.005948</td>\n",
       "      <td>0.014338</td>\n",
       "      <td>...</td>\n",
       "      <td>0.010144</td>\n",
       "      <td>0.045688</td>\n",
       "      <td>0.056429</td>\n",
       "      <td>47d4e8b4-c92b-4e06-a436-9fdc419ff70b</td>\n",
       "      <td>761724</td>\n",
       "      <td>Ductal and Lobular Neoplasms</td>\n",
       "      <td>Primary Tumor</td>\n",
       "      <td>19836.0</td>\n",
       "      <td>white</td>\n",
       "      <td>not hispanic or latino</td>\n",
       "    </tr>\n",
       "    <tr>\n",
       "      <th>4</th>\n",
       "      <td>0.027670</td>\n",
       "      <td>0.015868</td>\n",
       "      <td>0.071436</td>\n",
       "      <td>0.021284</td>\n",
       "      <td>0.014400</td>\n",
       "      <td>0.013111</td>\n",
       "      <td>0.019075</td>\n",
       "      <td>0.029269</td>\n",
       "      <td>0.011906</td>\n",
       "      <td>0.014320</td>\n",
       "      <td>...</td>\n",
       "      <td>0.009704</td>\n",
       "      <td>0.021215</td>\n",
       "      <td>0.025321</td>\n",
       "      <td>f947716e-8978-4e56-9a70-243b330c8e51</td>\n",
       "      <td>770436</td>\n",
       "      <td>Ductal and Lobular Neoplasms</td>\n",
       "      <td>Primary Tumor</td>\n",
       "      <td>23742.0</td>\n",
       "      <td>not reported</td>\n",
       "      <td>not reported</td>\n",
       "    </tr>\n",
       "  </tbody>\n",
       "</table>\n",
       "<p>5 rows × 17276 columns</p>\n",
       "</div>"
      ],
      "text/plain": [
       "   cg22501393  cg18895155  cg15264255  cg18464559  cg20379125  cg12790134  \\\n",
       "0    0.028667    0.012232    0.142088    0.016443    0.015846    0.117437   \n",
       "1    0.029441    0.014666    0.106937    0.017454    0.016934    0.012831   \n",
       "2    0.034916    0.018333    0.113594    0.016953    0.018574    0.017720   \n",
       "3    0.025584    0.014079    0.065338    0.018666    0.147531    0.109610   \n",
       "4    0.027670    0.015868    0.071436    0.021284    0.014400    0.013111   \n",
       "\n",
       "   cg07697569  cg13613532  cg13951948  cg06590533  ...  cg10265786  \\\n",
       "0    0.041592    0.024423    0.008772    0.014977  ...    0.010114   \n",
       "1    0.018839    0.011539    0.010769    0.015953  ...    0.010052   \n",
       "2    0.019870    0.024152    0.008728    0.018683  ...    0.010444   \n",
       "3    0.018852    0.021281    0.005948    0.014338  ...    0.010144   \n",
       "4    0.019075    0.029269    0.011906    0.014320  ...    0.009704   \n",
       "\n",
       "   cg26848248  cg09906309                               file_id    size  \\\n",
       "0    0.022962    0.024748  fc6a1b6d-894e-4da5-be37-2b0b76770ab1  769178   \n",
       "1    0.021182    0.028579  d42a557d-a77d-4f6b-8fb9-b5b6f4b3ea87  771468   \n",
       "2    0.020363    0.029775  04e87399-3399-4fd9-93a0-7b8b4953c0c7  774870   \n",
       "3    0.045688    0.056429  47d4e8b4-c92b-4e06-a436-9fdc419ff70b  761724   \n",
       "4    0.021215    0.025321  f947716e-8978-4e56-9a70-243b330c8e51  770436   \n",
       "\n",
       "                        disease    sample_type      age          race  \\\n",
       "0  Ductal and Lobular Neoplasms  Primary Tumor  28974.0         white   \n",
       "1  Ductal and Lobular Neoplasms  Primary Tumor  20152.0         white   \n",
       "2  Ductal and Lobular Neoplasms  Primary Tumor  25259.0         white   \n",
       "3  Ductal and Lobular Neoplasms  Primary Tumor  19836.0         white   \n",
       "4  Ductal and Lobular Neoplasms  Primary Tumor  23742.0  not reported   \n",
       "\n",
       "                    etnia  \n",
       "0  not hispanic or latino  \n",
       "1  not hispanic or latino  \n",
       "2            not reported  \n",
       "3  not hispanic or latino  \n",
       "4            not reported  \n",
       "\n",
       "[5 rows x 17276 columns]"
      ]
     },
     "execution_count": 3,
     "metadata": {},
     "output_type": "execute_result"
    }
   ],
   "source": [
    "df = pd.read_csv(f\"{data_preprocessed_path}/cpg_preprocessed.csv\")\n",
    "df.head()"
   ]
  },
  {
   "attachments": {},
   "cell_type": "markdown",
   "metadata": {},
   "source": [
    "## Análisis de distribuciones"
   ]
  },
  {
   "cell_type": "code",
   "execution_count": 4,
   "metadata": {},
   "outputs": [
    {
     "name": "stdout",
     "output_type": "stream",
     "text": [
      "Conteo de tipos de muestra\n",
      "Counter({'Primary Tumor': 312, 'Solid Tissue Normal': 27})\n",
      "Conteo de etnias\n",
      "Counter({'not hispanic or latino': 232, 'not reported': 106, 'hispanic or latino': 1})\n",
      "Conteo de ascendencia\n",
      "Counter({'white': 213, 'not reported': 80, 'black or african american': 25, 'asian': 21})\n"
     ]
    }
   ],
   "source": [
    "print(\"Conteo de tipos de muestra\")\n",
    "print(Counter(df['sample_type']))\n",
    "print(\"Conteo de etnias\")\n",
    "print(Counter(df['etnia']))\n",
    "print(\"Conteo de ascendencia\")\n",
    "print(Counter(df['race']))\n"
   ]
  },
  {
   "cell_type": "code",
   "execution_count": 5,
   "metadata": {},
   "outputs": [],
   "source": [
    "# Transformar edades a años\n",
    "df['age'] = df['age']/365.25"
   ]
  },
  {
   "cell_type": "code",
   "execution_count": 6,
   "metadata": {},
   "outputs": [
    {
     "data": {
      "image/png": "[encoded data removed]",
      "text/plain": [
       "<Figure size 640x480 with 1 Axes>"
      ]
     },
     "metadata": {},
     "output_type": "display_data"
    }
   ],
   "source": [
    "# Análizamos distribución\n",
    "count = Counter(df['sample_type'])\n",
    "fig, ax = plt.subplots()\n",
    "fig.suptitle('Distribución de clases')\n",
    "ax = ax.pie(count.values(), labels=count.keys(), autopct='%1.1f%%')"
   ]
  },
  {
   "cell_type": "code",
   "execution_count": 7,
   "metadata": {},
   "outputs": [],
   "source": [
    "def histograms_comparison(hists, title='', x_axis=''):\n",
    "    '''\n",
    "        - hists: Diccionario con datos del eje x \n",
    "    '''\n",
    "    \n",
    "    fig = go.Figure()\n",
    "    for label in hists:\n",
    "        fig.add_trace(go.Histogram(x=hists[label], name = label))\n",
    "        #fig.add_trace(go.Histogram(x=x2, name = label_2))\n",
    "    # Overlay both histograms\n",
    "    fig.update_layout(barmode='overlay')\n",
    "    fig.update_layout(\n",
    "        title = title,\n",
    "        xaxis_title=x_axis,\n",
    "        yaxis_title='Frequency'\n",
    "    )\n",
    "    # Reduce opacity to see both histograms\n",
    "    fig.update_traces(opacity=0.85)\n",
    "    fig.show()"
   ]
  },
  {
   "cell_type": "code",
   "execution_count": 8,
   "metadata": {},
   "outputs": [],
   "source": [
    "tumor_samples = df[df['sample_type']=='Primary Tumor']\n",
    "normal_samples = df[df['sample_type']=='Solid Tissue Normal']"
   ]
  },
  {
   "cell_type": "code",
   "execution_count": 9,
   "metadata": {},
   "outputs": [
    {
     "data": {
      "application/vnd.plotly.v1+json": {
       "config": {
        "plotlyServerURL": "https://plot.ly"
       },
       "data": [
        {
         "name": "Tumor",
         "opacity": 0.85,
         "type": "histogram",
         "x": [
          79.32648870636551,
          55.17316906228611,
          69.15537303216975,
          54.30800821355236,
          65.00205338809035,
          61.74948665297741,
          52.83504449007529,
          62.86652977412731,
          63.00068446269678,
          37.11430527036276,
          69.43737166324435,
          52.668035592060235,
          83.75085557837097,
          57.3305954825462,
          47.841204654346335,
          78.57357973990418,
          42.997946611909654,
          80.91718001368925,
          40.982888432580424,
          68.33675564681725,
          40.77754962354552,
          43.540041067761805,
          82.67214236824093,
          57.002053388090346,
          62.58179329226557,
          57.50034223134839,
          51.32922655715264,
          50.2258726899384,
          54.247775496235455,
          59.2498288843258,
          79.71252566735113,
          71.95345653661876,
          57.30321697467488,
          55.70704996577687,
          80.83504449007529,
          66.1327857631759,
          65.37440109514031,
          54.21492128678987,
          89.99863107460644,
          79.41409993155374,
          80.17796030116358,
          80.41067761806981,
          67.60301163586584,
          42.54620123203286,
          56.31759069130732,
          45.26488706365503,
          62.171115674195754,
          80.16427104722793,
          61.2539356605065,
          73.43737166324435,
          45.489390828199866,
          62.17659137577002,
          57.11430527036276,
          50.70225872689939,
          53.08418891170431,
          73.49760438056126,
          49.385352498288846,
          34.61190965092403,
          46.06160164271047,
          78.66666666666667,
          34.691307323750856,
          72.3504449007529,
          66.34360027378509,
          48.35044490075291,
          51.31006160164271,
          48.77481177275838,
          58.666666666666664,
          77.58521560574948,
          76.88980150581793,
          56.88158795345654,
          71.1129363449692,
          53.15537303216975,
          41.30047912388775,
          61.01026694045174,
          50.6694045174538,
          45.19644079397673,
          58.8062970568104,
          60.596851471594796,
          46.92950034223135,
          45.7741273100616,
          58.12457221081451,
          52.33127994524298,
          64.53114305270363,
          37.79603011635866,
          88.7173169062286,
          73.08145106091717,
          83.58110882956879,
          69.75222450376455,
          45.72758384668035,
          73.91649555099247,
          51.00068446269678,
          71.16769336071184,
          47.29637234770705,
          52.610540725530456,
          74.77891854893909,
          67.75085557837097,
          78.29158110882958,
          85.83436002737851,
          43.186858316221766,
          69.41820670773443,
          81.88090349075975,
          55.70431211498973,
          56.68720054757016,
          52.33949349760438,
          62.168377823408626,
          66.83367556468173,
          65.50581793292265,
          88.87611225188228,
          64.83778234086242,
          70.25051334702259,
          53.35797399041752,
          36.24366872005476,
          68.47364818617385,
          66.33812457221082,
          64.73921971252567,
          64.99931553730322,
          79.75633127994524,
          48.92813141683778,
          63.148528405201915,
          76.5968514715948,
          59.19780971937029,
          78.47775496235455,
          50.71594798083505,
          63.775496235455165,
          60.662559890485966,
          66.43668720054757,
          66.91854893908283,
          67.129363449692,
          69.25119780971937,
          47.6933607118412,
          61.497604380561256,
          62.450376454483234,
          62.620123203285424,
          52.865160848733744,
          47.748117727583846,
          46.614647501711154,
          64.50376454483231,
          54.001368925393564,
          61.667351129363446,
          58.76522929500342,
          58.4476386036961,
          68.03559206023272,
          56.95824777549623,
          42.691307323750856,
          69.74674880219028,
          52.747433264887064,
          58.6611909650924,
          84.08213552361396,
          69.56331279945243,
          59.49623545516769,
          56.04654346338125,
          55.72073921971253,
          64.68993839835728,
          84.82956878850102,
          73.88911704312115,
          51.676933607118414,
          49.319644079397676,
          43.75085557837098,
          70.66666666666667,
          68.8788501026694,
          37.45379876796714,
          69.85626283367556,
          56.1368925393566,
          63.79192334017796,
          41.8590006844627,
          65.49486652977413,
          50.46680355920602,
          66.59000684462697,
          74.36824093086926,
          42.77891854893908,
          35.15674195756331,
          75.91786447638604,
          56.60506502395619,
          74.05065023956195,
          63.59753593429158,
          56.709103353867214,
          65.75496235455168,
          62.69678302532512,
          45.83709787816564,
          51.97535934291581,
          41.281314168377826,
          63.419575633128,
          76.50102669404518,
          68.25188227241615,
          67.65229295003422,
          75.44695414099931,
          55.66598220396988,
          51.663244353182755,
          89.66461327857631,
          58.42026009582478,
          47.15674195756331,
          36.87063655030801,
          61.95482546201232,
          63.0280629705681,
          64.77754962354551,
          76.43258042436688,
          56.72553045859001,
          62.157426420260094,
          45.51129363449692,
          62.417522245037645,
          58.666666666666664,
          55.044490075290895,
          60.54757015742642,
          73.16358658453115,
          51.860369609856264,
          45.82067077344285,
          62.417522245037645,
          53.478439425051334,
          41.95482546201232,
          79.18685831622176,
          39.68240930869268,
          38.280629705681044,
          61.26488706365503,
          35.60301163586585,
          50.90759753593429,
          52.878850102669404,
          54.42847364818618,
          48.13141683778234,
          49.270362765229294,
          72.68446269678303,
          41.8507871321013,
          53.14989733059548,
          39.7864476386037,
          48.41067761806981,
          59.66598220396988,
          41.002053388090346,
          29.60164271047228,
          62.666666666666664,
          48.75290896646133,
          50.98151950718686,
          51.611225188227245,
          89.20739219712526,
          74.99794661190965,
          48.48733744010951,
          66.49691991786447,
          45.8590006844627,
          66.74880219028063,
          52.45722108145106,
          81.64271047227926,
          79.68240930869267,
          39.01437371663244,
          76.21355236139631,
          66.3709787816564,
          70.29158110882958,
          40.16153319644079,
          65.85626283367556,
          57.53319644079398,
          34.85010266940452,
          68.74743326488706,
          61.828884325804246,
          51.99452429842574,
          40.747433264887064,
          70.08350444900753,
          41.84531143052703,
          44.837782340862425,
          51.35934291581109,
          65.28405201916496,
          68.4435318275154,
          59.98631074606434,
          61.99041752224504,
          64.79671457905545,
          73.42094455852155,
          57.11978097193703,
          60.84052019164955,
          66.08350444900753,
          67.1895961670089,
          40.04380561259411,
          38.288843258042434,
          52.09582477754962,
          78.10814510609171,
          61.38809034907597,
          52.435318275154,
          62.51334702258727,
          35.49623545516769,
          80.0848733744011,
          76.66803559206024,
          82.04243668720055,
          32.65982203969884,
          69.16632443531827,
          81.58795345653662,
          46.743326488706366,
          81.74674880219028,
          46.15468856947297,
          71.20328542094455,
          53.779603011635864,
          74.25325119780972,
          45.73579739904175,
          75.16769336071184,
          52.04654346338125,
          41.210130047912386,
          62.110882956878854,
          58.91854893908282,
          84.16700889801506,
          49.66461327857632,
          76.69541409993155,
          89.91649555099247,
          54.902121834360024,
          76.83230663928816,
          64.45722108145107,
          73.16632443531827,
          56.61327857631759,
          42.502395619438744,
          54.119096509240244,
          36.71184120465435,
          70.24777549623545,
          65.65366187542779,
          62.43668720054757,
          50.666666666666664,
          62.02874743326489,
          80.66529774127311,
          36.8104038329911,
          46.666666666666664
         ]
        },
        {
         "name": "Normal",
         "opacity": 0.85,
         "type": "histogram",
         "x": [
          64.68993839835728,
          41.281314168377826,
          50.71594798083505,
          45.7741273100616,
          48.41067761806981,
          35.15674195756331,
          71.1129363449692,
          50.70225872689939,
          79.32648870636551,
          46.06160164271047,
          56.60506502395619,
          54.119096509240244,
          39.68240930869268,
          51.676933607118414,
          62.02874743326489,
          65.28405201916496,
          60.84052019164955,
          72.3504449007529,
          78.10814510609171,
          50.90759753593429,
          43.540041067761805,
          42.691307323750856,
          56.61327857631759,
          88.7173169062286,
          39.7864476386037,
          35.60301163586585,
          66.43668720054757
         ]
        }
       ],
       "layout": {
        "barmode": "overlay",
        "template": {
         "data": {
          "bar": [
           {
            "error_x": {
             "color": "#2a3f5f"
            },
            "error_y": {
             "color": "#2a3f5f"
            },
            "marker": {
             "line": {
              "color": "#E5ECF6",
              "width": 0.5
             },
             "pattern": {
              "fillmode": "overlay",
              "size": 10,
              "solidity": 0.2
             }
            },
            "type": "bar"
           }
          ],
          "barpolar": [
           {
            "marker": {
             "line": {
              "color": "#E5ECF6",
              "width": 0.5
             },
             "pattern": {
              "fillmode": "overlay",
              "size": 10,
              "solidity": 0.2
             }
            },
            "type": "barpolar"
           }
          ],
          "carpet": [
           {
            "aaxis": {
             "endlinecolor": "#2a3f5f",
             "gridcolor": "white",
             "linecolor": "white",
             "minorgridcolor": "white",
             "startlinecolor": "#2a3f5f"
            },
            "baxis": {
             "endlinecolor": "#2a3f5f",
             "gridcolor": "white",
             "linecolor": "white",
             "minorgridcolor": "white",
             "startlinecolor": "#2a3f5f"
            },
            "type": "carpet"
           }
          ],
          "choropleth": [
           {
            "colorbar": {
             "outlinewidth": 0,
             "ticks": ""
            },
            "type": "choropleth"
           }
          ],
          "contour": [
           {
            "colorbar": {
             "outlinewidth": 0,
             "ticks": ""
            },
            "colorscale": [
             [
              0,
              "#0d0887"
             ],
             [
              0.1111111111111111,
              "#46039f"
             ],
             [
              0.2222222222222222,
              "#7201a8"
             ],
             [
              0.3333333333333333,
              "#9c179e"
             ],
             [
              0.4444444444444444,
              "#bd3786"
             ],
             [
              0.5555555555555556,
              "#d8576b"
             ],
             [
              0.6666666666666666,
              "#ed7953"
             ],
             [
              0.7777777777777778,
              "#fb9f3a"
             ],
             [
              0.8888888888888888,
              "#fdca26"
             ],
             [
              1,
              "#f0f921"
             ]
            ],
            "type": "contour"
           }
          ],
          "contourcarpet": [
           {
            "colorbar": {
             "outlinewidth": 0,
             "ticks": ""
            },
            "type": "contourcarpet"
           }
          ],
          "heatmap": [
           {
            "colorbar": {
             "outlinewidth": 0,
             "ticks": ""
            },
            "colorscale": [
             [
              0,
              "#0d0887"
             ],
             [
              0.1111111111111111,
              "#46039f"
             ],
             [
              0.2222222222222222,
              "#7201a8"
             ],
             [
              0.3333333333333333,
              "#9c179e"
             ],
             [
              0.4444444444444444,
              "#bd3786"
             ],
             [
              0.5555555555555556,
              "#d8576b"
             ],
             [
              0.6666666666666666,
              "#ed7953"
             ],
             [
              0.7777777777777778,
              "#fb9f3a"
             ],
             [
              0.8888888888888888,
              "#fdca26"
             ],
             [
              1,
              "#f0f921"
             ]
            ],
            "type": "heatmap"
           }
          ],
          "heatmapgl": [
           {
            "colorbar": {
             "outlinewidth": 0,
             "ticks": ""
            },
            "colorscale": [
             [
              0,
              "#0d0887"
             ],
             [
              0.1111111111111111,
              "#46039f"
             ],
             [
              0.2222222222222222,
              "#7201a8"
             ],
             [
              0.3333333333333333,
              "#9c179e"
             ],
             [
              0.4444444444444444,
              "#bd3786"
             ],
             [
              0.5555555555555556,
              "#d8576b"
             ],
             [
              0.6666666666666666,
              "#ed7953"
             ],
             [
              0.7777777777777778,
              "#fb9f3a"
             ],
             [
              0.8888888888888888,
              "#fdca26"
             ],
             [
              1,
              "#f0f921"
             ]
            ],
            "type": "heatmapgl"
           }
          ],
          "histogram": [
           {
            "marker": {
             "pattern": {
              "fillmode": "overlay",
              "size": 10,
              "solidity": 0.2
             }
            },
            "type": "histogram"
           }
          ],
          "histogram2d": [
           {
            "colorbar": {
             "outlinewidth": 0,
             "ticks": ""
            },
            "colorscale": [
             [
              0,
              "#0d0887"
             ],
             [
              0.1111111111111111,
              "#46039f"
             ],
             [
              0.2222222222222222,
              "#7201a8"
             ],
             [
              0.3333333333333333,
              "#9c179e"
             ],
             [
              0.4444444444444444,
              "#bd3786"
             ],
             [
              0.5555555555555556,
              "#d8576b"
             ],
             [
              0.6666666666666666,
              "#ed7953"
             ],
             [
              0.7777777777777778,
              "#fb9f3a"
             ],
             [
              0.8888888888888888,
              "#fdca26"
             ],
             [
              1,
              "#f0f921"
             ]
            ],
            "type": "histogram2d"
           }
          ],
          "histogram2dcontour": [
           {
            "colorbar": {
             "outlinewidth": 0,
             "ticks": ""
            },
            "colorscale": [
             [
              0,
              "#0d0887"
             ],
             [
              0.1111111111111111,
              "#46039f"
             ],
             [
              0.2222222222222222,
              "#7201a8"
             ],
             [
              0.3333333333333333,
              "#9c179e"
             ],
             [
              0.4444444444444444,
              "#bd3786"
             ],
             [
              0.5555555555555556,
              "#d8576b"
             ],
             [
              0.6666666666666666,
              "#ed7953"
             ],
             [
              0.7777777777777778,
              "#fb9f3a"
             ],
             [
              0.8888888888888888,
              "#fdca26"
             ],
             [
              1,
              "#f0f921"
             ]
            ],
            "type": "histogram2dcontour"
           }
          ],
          "mesh3d": [
           {
            "colorbar": {
             "outlinewidth": 0,
             "ticks": ""
            },
            "type": "mesh3d"
           }
          ],
          "parcoords": [
           {
            "line": {
             "colorbar": {
              "outlinewidth": 0,
              "ticks": ""
             }
            },
            "type": "parcoords"
           }
          ],
          "pie": [
           {
            "automargin": true,
            "type": "pie"
           }
          ],
          "scatter": [
           {
            "fillpattern": {
             "fillmode": "overlay",
             "size": 10,
             "solidity": 0.2
            },
            "type": "scatter"
           }
          ],
          "scatter3d": [
           {
            "line": {
             "colorbar": {
              "outlinewidth": 0,
              "ticks": ""
             }
            },
            "marker": {
             "colorbar": {
              "outlinewidth": 0,
              "ticks": ""
             }
            },
            "type": "scatter3d"
           }
          ],
          "scattercarpet": [
           {
            "marker": {
             "colorbar": {
              "outlinewidth": 0,
              "ticks": ""
             }
            },
            "type": "scattercarpet"
           }
          ],
          "scattergeo": [
           {
            "marker": {
             "colorbar": {
              "outlinewidth": 0,
              "ticks": ""
             }
            },
            "type": "scattergeo"
           }
          ],
          "scattergl": [
           {
            "marker": {
             "colorbar": {
              "outlinewidth": 0,
              "ticks": ""
             }
            },
            "type": "scattergl"
           }
          ],
          "scattermapbox": [
           {
            "marker": {
             "colorbar": {
              "outlinewidth": 0,
              "ticks": ""
             }
            },
            "type": "scattermapbox"
           }
          ],
          "scatterpolar": [
           {
            "marker": {
             "colorbar": {
              "outlinewidth": 0,
              "ticks": ""
             }
            },
            "type": "scatterpolar"
           }
          ],
          "scatterpolargl": [
           {
            "marker": {
             "colorbar": {
              "outlinewidth": 0,
              "ticks": ""
             }
            },
            "type": "scatterpolargl"
           }
          ],
          "scatterternary": [
           {
            "marker": {
             "colorbar": {
              "outlinewidth": 0,
              "ticks": ""
             }
            },
            "type": "scatterternary"
           }
          ],
          "surface": [
           {
            "colorbar": {
             "outlinewidth": 0,
             "ticks": ""
            },
            "colorscale": [
             [
              0,
              "#0d0887"
             ],
             [
              0.1111111111111111,
              "#46039f"
             ],
             [
              0.2222222222222222,
              "#7201a8"
             ],
             [
              0.3333333333333333,
              "#9c179e"
             ],
             [
              0.4444444444444444,
              "#bd3786"
             ],
             [
              0.5555555555555556,
              "#d8576b"
             ],
             [
              0.6666666666666666,
              "#ed7953"
             ],
             [
              0.7777777777777778,
              "#fb9f3a"
             ],
             [
              0.8888888888888888,
              "#fdca26"
             ],
             [
              1,
              "#f0f921"
             ]
            ],
            "type": "surface"
           }
          ],
          "table": [
           {
            "cells": {
             "fill": {
              "color": "#EBF0F8"
             },
             "line": {
              "color": "white"
             }
            },
            "header": {
             "fill": {
              "color": "#C8D4E3"
             },
             "line": {
              "color": "white"
             }
            },
            "type": "table"
           }
          ]
         },
         "layout": {
          "annotationdefaults": {
           "arrowcolor": "#2a3f5f",
           "arrowhead": 0,
           "arrowwidth": 1
          },
          "autotypenumbers": "strict",
          "coloraxis": {
           "colorbar": {
            "outlinewidth": 0,
            "ticks": ""
           }
          },
          "colorscale": {
           "diverging": [
            [
             0,
             "#8e0152"
            ],
            [
             0.1,
             "#c51b7d"
            ],
            [
             0.2,
             "#de77ae"
            ],
            [
             0.3,
             "#f1b6da"
            ],
            [
             0.4,
             "#fde0ef"
            ],
            [
             0.5,
             "#f7f7f7"
            ],
            [
             0.6,
             "#e6f5d0"
            ],
            [
             0.7,
             "#b8e186"
            ],
            [
             0.8,
             "#7fbc41"
            ],
            [
             0.9,
             "#4d9221"
            ],
            [
             1,
             "#276419"
            ]
           ],
           "sequential": [
            [
             0,
             "#0d0887"
            ],
            [
             0.1111111111111111,
             "#46039f"
            ],
            [
             0.2222222222222222,
             "#7201a8"
            ],
            [
             0.3333333333333333,
             "#9c179e"
            ],
            [
             0.4444444444444444,
             "#bd3786"
            ],
            [
             0.5555555555555556,
             "#d8576b"
            ],
            [
             0.6666666666666666,
             "#ed7953"
            ],
            [
             0.7777777777777778,
             "#fb9f3a"
            ],
            [
             0.8888888888888888,
             "#fdca26"
            ],
            [
             1,
             "#f0f921"
            ]
           ],
           "sequentialminus": [
            [
             0,
             "#0d0887"
            ],
            [
             0.1111111111111111,
             "#46039f"
            ],
            [
             0.2222222222222222,
             "#7201a8"
            ],
            [
             0.3333333333333333,
             "#9c179e"
            ],
            [
             0.4444444444444444,
             "#bd3786"
            ],
            [
             0.5555555555555556,
             "#d8576b"
            ],
            [
             0.6666666666666666,
             "#ed7953"
            ],
            [
             0.7777777777777778,
             "#fb9f3a"
            ],
            [
             0.8888888888888888,
             "#fdca26"
            ],
            [
             1,
             "#f0f921"
            ]
           ]
          },
          "colorway": [
           "#636efa",
           "#EF553B",
           "#00cc96",
           "#ab63fa",
           "#FFA15A",
           "#19d3f3",
           "#FF6692",
           "#B6E880",
           "#FF97FF",
           "#FECB52"
          ],
          "font": {
           "color": "#2a3f5f"
          },
          "geo": {
           "bgcolor": "white",
           "lakecolor": "white",
           "landcolor": "#E5ECF6",
           "showlakes": true,
           "showland": true,
           "subunitcolor": "white"
          },
          "hoverlabel": {
           "align": "left"
          },
          "hovermode": "closest",
          "mapbox": {
           "style": "light"
          },
          "paper_bgcolor": "white",
          "plot_bgcolor": "#E5ECF6",
          "polar": {
           "angularaxis": {
            "gridcolor": "white",
            "linecolor": "white",
            "ticks": ""
           },
           "bgcolor": "#E5ECF6",
           "radialaxis": {
            "gridcolor": "white",
            "linecolor": "white",
            "ticks": ""
           }
          },
          "scene": {
           "xaxis": {
            "backgroundcolor": "#E5ECF6",
            "gridcolor": "white",
            "gridwidth": 2,
            "linecolor": "white",
            "showbackground": true,
            "ticks": "",
            "zerolinecolor": "white"
           },
           "yaxis": {
            "backgroundcolor": "#E5ECF6",
            "gridcolor": "white",
            "gridwidth": 2,
            "linecolor": "white",
            "showbackground": true,
            "ticks": "",
            "zerolinecolor": "white"
           },
           "zaxis": {
            "backgroundcolor": "#E5ECF6",
            "gridcolor": "white",
            "gridwidth": 2,
            "linecolor": "white",
            "showbackground": true,
            "ticks": "",
            "zerolinecolor": "white"
           }
          },
          "shapedefaults": {
           "line": {
            "color": "#2a3f5f"
           }
          },
          "ternary": {
           "aaxis": {
            "gridcolor": "white",
            "linecolor": "white",
            "ticks": ""
           },
           "baxis": {
            "gridcolor": "white",
            "linecolor": "white",
            "ticks": ""
           },
           "bgcolor": "#E5ECF6",
           "caxis": {
            "gridcolor": "white",
            "linecolor": "white",
            "ticks": ""
           }
          },
          "title": {
           "x": 0.05
          },
          "xaxis": {
           "automargin": true,
           "gridcolor": "white",
           "linecolor": "white",
           "ticks": "",
           "title": {
            "standoff": 15
           },
           "zerolinecolor": "white",
           "zerolinewidth": 2
          },
          "yaxis": {
           "automargin": true,
           "gridcolor": "white",
           "linecolor": "white",
           "ticks": "",
           "title": {
            "standoff": 15
           },
           "zerolinecolor": "white",
           "zerolinewidth": 2
          }
         }
        },
        "title": {
         "text": "Distribución de edad"
        },
        "xaxis": {
         "title": {
          "text": "Edad"
         }
        },
        "yaxis": {
         "title": {
          "text": "Frequency"
         }
        }
       }
      }
     },
     "metadata": {},
     "output_type": "display_data"
    }
   ],
   "source": [
    "histograms_comparison({'Tumor':tumor_samples['age'], 'Normal':normal_samples['age']},\n",
    "                     'Distribución de edad', 'Edad')"
   ]
  },
  {
   "cell_type": "code",
   "execution_count": 10,
   "metadata": {},
   "outputs": [
    {
     "data": {
      "application/vnd.plotly.v1+json": {
       "config": {
        "plotlyServerURL": "https://plot.ly"
       },
       "data": [
        {
         "name": "Tumor",
         "opacity": 0.85,
         "type": "histogram",
         "x": [
          "not hispanic or latino",
          "not hispanic or latino",
          "not reported",
          "not hispanic or latino",
          "not reported",
          "not reported",
          "not reported",
          "not reported",
          "not reported",
          "not hispanic or latino",
          "not hispanic or latino",
          "not hispanic or latino",
          "not reported",
          "not reported",
          "not hispanic or latino",
          "not reported",
          "not reported",
          "not reported",
          "not hispanic or latino",
          "not reported",
          "not hispanic or latino",
          "not hispanic or latino",
          "not reported",
          "not reported",
          "not reported",
          "not reported",
          "not hispanic or latino",
          "not hispanic or latino",
          "not reported",
          "not reported",
          "not reported",
          "not hispanic or latino",
          "not hispanic or latino",
          "not hispanic or latino",
          "not reported",
          "hispanic or latino",
          "not hispanic or latino",
          "not hispanic or latino",
          "not hispanic or latino",
          "not reported",
          "not hispanic or latino",
          "not reported",
          "not hispanic or latino",
          "not hispanic or latino",
          "not hispanic or latino",
          "not hispanic or latino",
          "not hispanic or latino",
          "not hispanic or latino",
          "not reported",
          "not hispanic or latino",
          "not hispanic or latino",
          "not hispanic or latino",
          "not hispanic or latino",
          "not hispanic or latino",
          "not reported",
          "not hispanic or latino",
          "not hispanic or latino",
          "not reported",
          "not hispanic or latino",
          "not hispanic or latino",
          "not hispanic or latino",
          "not hispanic or latino",
          "not hispanic or latino",
          "not reported",
          "not hispanic or latino",
          "not hispanic or latino",
          "not hispanic or latino",
          "not reported",
          "not hispanic or latino",
          "not reported",
          "not hispanic or latino",
          "not reported",
          "not hispanic or latino",
          "not hispanic or latino",
          "not hispanic or latino",
          "not hispanic or latino",
          "not hispanic or latino",
          "not hispanic or latino",
          "not hispanic or latino",
          "not hispanic or latino",
          "not hispanic or latino",
          "not reported",
          "not hispanic or latino",
          "not hispanic or latino",
          "not hispanic or latino",
          "not reported",
          "not reported",
          "not reported",
          "not hispanic or latino",
          "not reported",
          "not reported",
          "not reported",
          "not reported",
          "not reported",
          "not hispanic or latino",
          "not reported",
          "not hispanic or latino",
          "not reported",
          "not hispanic or latino",
          "not reported",
          "not hispanic or latino",
          "not hispanic or latino",
          "not hispanic or latino",
          "not hispanic or latino",
          "not reported",
          "not reported",
          "not reported",
          "not hispanic or latino",
          "not hispanic or latino",
          "not reported",
          "not hispanic or latino",
          "not reported",
          "not hispanic or latino",
          "not reported",
          "not hispanic or latino",
          "not reported",
          "not hispanic or latino",
          "not hispanic or latino",
          "not hispanic or latino",
          "not hispanic or latino",
          "not hispanic or latino",
          "not hispanic or latino",
          "not hispanic or latino",
          "not hispanic or latino",
          "not reported",
          "not hispanic or latino",
          "not reported",
          "not hispanic or latino",
          "not reported",
          "not hispanic or latino",
          "not hispanic or latino",
          "not hispanic or latino",
          "not hispanic or latino",
          "not hispanic or latino",
          "not reported",
          "not hispanic or latino",
          "not reported",
          "not hispanic or latino",
          "not hispanic or latino",
          "not hispanic or latino",
          "not hispanic or latino",
          "not reported",
          "not reported",
          "not hispanic or latino",
          "not reported",
          "not reported",
          "not hispanic or latino",
          "not reported",
          "not reported",
          "not reported",
          "not hispanic or latino",
          "not hispanic or latino",
          "not hispanic or latino",
          "not reported",
          "not hispanic or latino",
          "not hispanic or latino",
          "not hispanic or latino",
          "not reported",
          "not hispanic or latino",
          "not hispanic or latino",
          "not hispanic or latino",
          "not hispanic or latino",
          "not hispanic or latino",
          "not hispanic or latino",
          "not hispanic or latino",
          "not hispanic or latino",
          "not hispanic or latino",
          "not hispanic or latino",
          "not hispanic or latino",
          "not hispanic or latino",
          "not hispanic or latino",
          "not reported",
          "not hispanic or latino",
          "not hispanic or latino",
          "not hispanic or latino",
          "not hispanic or latino",
          "not reported",
          "not hispanic or latino",
          "not reported",
          "not hispanic or latino",
          "not reported",
          "not reported",
          "not reported",
          "not reported",
          "not hispanic or latino",
          "not hispanic or latino",
          "not hispanic or latino",
          "not reported",
          "not reported",
          "not reported",
          "not hispanic or latino",
          "not hispanic or latino",
          "not hispanic or latino",
          "not hispanic or latino",
          "not hispanic or latino",
          "not hispanic or latino",
          "not reported",
          "not reported",
          "not hispanic or latino",
          "not hispanic or latino",
          "not reported",
          "not hispanic or latino",
          "not hispanic or latino",
          "not reported",
          "not hispanic or latino",
          "not hispanic or latino",
          "not hispanic or latino",
          "not reported",
          "not hispanic or latino",
          "not hispanic or latino",
          "not hispanic or latino",
          "not hispanic or latino",
          "not hispanic or latino",
          "not hispanic or latino",
          "not hispanic or latino",
          "not reported",
          "not hispanic or latino",
          "not hispanic or latino",
          "not hispanic or latino",
          "not hispanic or latino",
          "not hispanic or latino",
          "not hispanic or latino",
          "not hispanic or latino",
          "not hispanic or latino",
          "not hispanic or latino",
          "not reported",
          "not hispanic or latino",
          "not hispanic or latino",
          "not reported",
          "not hispanic or latino",
          "not hispanic or latino",
          "not hispanic or latino",
          "not reported",
          "not reported",
          "not reported",
          "not hispanic or latino",
          "not reported",
          "not hispanic or latino",
          "not hispanic or latino",
          "not hispanic or latino",
          "not hispanic or latino",
          "not hispanic or latino",
          "not hispanic or latino",
          "not hispanic or latino",
          "not hispanic or latino",
          "not hispanic or latino",
          "not hispanic or latino",
          "not hispanic or latino",
          "not reported",
          "not hispanic or latino",
          "not hispanic or latino",
          "not reported",
          "not reported",
          "not hispanic or latino",
          "not reported",
          "not hispanic or latino",
          "not hispanic or latino",
          "not hispanic or latino",
          "not hispanic or latino",
          "not hispanic or latino",
          "not hispanic or latino",
          "not hispanic or latino",
          "not hispanic or latino",
          "not reported",
          "not reported",
          "not hispanic or latino",
          "not hispanic or latino",
          "not hispanic or latino",
          "not hispanic or latino",
          "not hispanic or latino",
          "not hispanic or latino",
          "not hispanic or latino",
          "not hispanic or latino",
          "not reported",
          "not reported",
          "not reported",
          "not hispanic or latino",
          "not hispanic or latino",
          "not reported",
          "not reported",
          "not hispanic or latino",
          "not reported",
          "not hispanic or latino",
          "not hispanic or latino",
          "not hispanic or latino",
          "not reported",
          "not hispanic or latino",
          "not reported",
          "not hispanic or latino",
          "not hispanic or latino",
          "not hispanic or latino",
          "not reported",
          "not reported",
          "not hispanic or latino",
          "not hispanic or latino",
          "not reported",
          "not hispanic or latino",
          "not reported",
          "not hispanic or latino",
          "not reported",
          "not hispanic or latino",
          "not hispanic or latino",
          "not hispanic or latino",
          "not hispanic or latino",
          "not hispanic or latino",
          "not reported",
          "not hispanic or latino",
          "not hispanic or latino",
          "not hispanic or latino",
          "not hispanic or latino",
          "not hispanic or latino",
          "not hispanic or latino"
         ]
        },
        {
         "name": "Normal",
         "opacity": 0.85,
         "type": "histogram",
         "x": [
          "not hispanic or latino",
          "not reported",
          "not hispanic or latino",
          "not hispanic or latino",
          "not hispanic or latino",
          "not hispanic or latino",
          "not hispanic or latino",
          "not hispanic or latino",
          "not hispanic or latino",
          "not hispanic or latino",
          "not hispanic or latino",
          "not hispanic or latino",
          "not hispanic or latino",
          "not hispanic or latino",
          "not hispanic or latino",
          "not hispanic or latino",
          "not reported",
          "not hispanic or latino",
          "not hispanic or latino",
          "not hispanic or latino",
          "not hispanic or latino",
          "not hispanic or latino",
          "not hispanic or latino",
          "not hispanic or latino",
          "not hispanic or latino",
          "not hispanic or latino",
          "not hispanic or latino"
         ]
        }
       ],
       "layout": {
        "barmode": "overlay",
        "template": {
         "data": {
          "bar": [
           {
            "error_x": {
             "color": "#2a3f5f"
            },
            "error_y": {
             "color": "#2a3f5f"
            },
            "marker": {
             "line": {
              "color": "#E5ECF6",
              "width": 0.5
             },
             "pattern": {
              "fillmode": "overlay",
              "size": 10,
              "solidity": 0.2
             }
            },
            "type": "bar"
           }
          ],
          "barpolar": [
           {
            "marker": {
             "line": {
              "color": "#E5ECF6",
              "width": 0.5
             },
             "pattern": {
              "fillmode": "overlay",
              "size": 10,
              "solidity": 0.2
             }
            },
            "type": "barpolar"
           }
          ],
          "carpet": [
           {
            "aaxis": {
             "endlinecolor": "#2a3f5f",
             "gridcolor": "white",
             "linecolor": "white",
             "minorgridcolor": "white",
             "startlinecolor": "#2a3f5f"
            },
            "baxis": {
             "endlinecolor": "#2a3f5f",
             "gridcolor": "white",
             "linecolor": "white",
             "minorgridcolor": "white",
             "startlinecolor": "#2a3f5f"
            },
            "type": "carpet"
           }
          ],
          "choropleth": [
           {
            "colorbar": {
             "outlinewidth": 0,
             "ticks": ""
            },
            "type": "choropleth"
           }
          ],
          "contour": [
           {
            "colorbar": {
             "outlinewidth": 0,
             "ticks": ""
            },
            "colorscale": [
             [
              0,
              "#0d0887"
             ],
             [
              0.1111111111111111,
              "#46039f"
             ],
             [
              0.2222222222222222,
              "#7201a8"
             ],
             [
              0.3333333333333333,
              "#9c179e"
             ],
             [
              0.4444444444444444,
              "#bd3786"
             ],
             [
              0.5555555555555556,
              "#d8576b"
             ],
             [
              0.6666666666666666,
              "#ed7953"
             ],
             [
              0.7777777777777778,
              "#fb9f3a"
             ],
             [
              0.8888888888888888,
              "#fdca26"
             ],
             [
              1,
              "#f0f921"
             ]
            ],
            "type": "contour"
           }
          ],
          "contourcarpet": [
           {
            "colorbar": {
             "outlinewidth": 0,
             "ticks": ""
            },
            "type": "contourcarpet"
           }
          ],
          "heatmap": [
           {
            "colorbar": {
             "outlinewidth": 0,
             "ticks": ""
            },
            "colorscale": [
             [
              0,
              "#0d0887"
             ],
             [
              0.1111111111111111,
              "#46039f"
             ],
             [
              0.2222222222222222,
              "#7201a8"
             ],
             [
              0.3333333333333333,
              "#9c179e"
             ],
             [
              0.4444444444444444,
              "#bd3786"
             ],
             [
              0.5555555555555556,
              "#d8576b"
             ],
             [
              0.6666666666666666,
              "#ed7953"
             ],
             [
              0.7777777777777778,
              "#fb9f3a"
             ],
             [
              0.8888888888888888,
              "#fdca26"
             ],
             [
              1,
              "#f0f921"
             ]
            ],
            "type": "heatmap"
           }
          ],
          "heatmapgl": [
           {
            "colorbar": {
             "outlinewidth": 0,
             "ticks": ""
            },
            "colorscale": [
             [
              0,
              "#0d0887"
             ],
             [
              0.1111111111111111,
              "#46039f"
             ],
             [
              0.2222222222222222,
              "#7201a8"
             ],
             [
              0.3333333333333333,
              "#9c179e"
             ],
             [
              0.4444444444444444,
              "#bd3786"
             ],
             [
              0.5555555555555556,
              "#d8576b"
             ],
             [
              0.6666666666666666,
              "#ed7953"
             ],
             [
              0.7777777777777778,
              "#fb9f3a"
             ],
             [
              0.8888888888888888,
              "#fdca26"
             ],
             [
              1,
              "#f0f921"
             ]
            ],
            "type": "heatmapgl"
           }
          ],
          "histogram": [
           {
            "marker": {
             "pattern": {
              "fillmode": "overlay",
              "size": 10,
              "solidity": 0.2
             }
            },
            "type": "histogram"
           }
          ],
          "histogram2d": [
           {
            "colorbar": {
             "outlinewidth": 0,
             "ticks": ""
            },
            "colorscale": [
             [
              0,
              "#0d0887"
             ],
             [
              0.1111111111111111,
              "#46039f"
             ],
             [
              0.2222222222222222,
              "#7201a8"
             ],
             [
              0.3333333333333333,
              "#9c179e"
             ],
             [
              0.4444444444444444,
              "#bd3786"
             ],
             [
              0.5555555555555556,
              "#d8576b"
             ],
             [
              0.6666666666666666,
              "#ed7953"
             ],
             [
              0.7777777777777778,
              "#fb9f3a"
             ],
             [
              0.8888888888888888,
              "#fdca26"
             ],
             [
              1,
              "#f0f921"
             ]
            ],
            "type": "histogram2d"
           }
          ],
          "histogram2dcontour": [
           {
            "colorbar": {
             "outlinewidth": 0,
             "ticks": ""
            },
            "colorscale": [
             [
              0,
              "#0d0887"
             ],
             [
              0.1111111111111111,
              "#46039f"
             ],
             [
              0.2222222222222222,
              "#7201a8"
             ],
             [
              0.3333333333333333,
              "#9c179e"
             ],
             [
              0.4444444444444444,
              "#bd3786"
             ],
             [
              0.5555555555555556,
              "#d8576b"
             ],
             [
              0.6666666666666666,
              "#ed7953"
             ],
             [
              0.7777777777777778,
              "#fb9f3a"
             ],
             [
              0.8888888888888888,
              "#fdca26"
             ],
             [
              1,
              "#f0f921"
             ]
            ],
            "type": "histogram2dcontour"
           }
          ],
          "mesh3d": [
           {
            "colorbar": {
             "outlinewidth": 0,
             "ticks": ""
            },
            "type": "mesh3d"
           }
          ],
          "parcoords": [
           {
            "line": {
             "colorbar": {
              "outlinewidth": 0,
              "ticks": ""
             }
            },
            "type": "parcoords"
           }
          ],
          "pie": [
           {
            "automargin": true,
            "type": "pie"
           }
          ],
          "scatter": [
           {
            "fillpattern": {
             "fillmode": "overlay",
             "size": 10,
             "solidity": 0.2
            },
            "type": "scatter"
           }
          ],
          "scatter3d": [
           {
            "line": {
             "colorbar": {
              "outlinewidth": 0,
              "ticks": ""
             }
            },
            "marker": {
             "colorbar": {
              "outlinewidth": 0,
              "ticks": ""
             }
            },
            "type": "scatter3d"
           }
          ],
          "scattercarpet": [
           {
            "marker": {
             "colorbar": {
              "outlinewidth": 0,
              "ticks": ""
             }
            },
            "type": "scattercarpet"
           }
          ],
          "scattergeo": [
           {
            "marker": {
             "colorbar": {
              "outlinewidth": 0,
              "ticks": ""
             }
            },
            "type": "scattergeo"
           }
          ],
          "scattergl": [
           {
            "marker": {
             "colorbar": {
              "outlinewidth": 0,
              "ticks": ""
             }
            },
            "type": "scattergl"
           }
          ],
          "scattermapbox": [
           {
            "marker": {
             "colorbar": {
              "outlinewidth": 0,
              "ticks": ""
             }
            },
            "type": "scattermapbox"
           }
          ],
          "scatterpolar": [
           {
            "marker": {
             "colorbar": {
              "outlinewidth": 0,
              "ticks": ""
             }
            },
            "type": "scatterpolar"
           }
          ],
          "scatterpolargl": [
           {
            "marker": {
             "colorbar": {
              "outlinewidth": 0,
              "ticks": ""
             }
            },
            "type": "scatterpolargl"
           }
          ],
          "scatterternary": [
           {
            "marker": {
             "colorbar": {
              "outlinewidth": 0,
              "ticks": ""
             }
            },
            "type": "scatterternary"
           }
          ],
          "surface": [
           {
            "colorbar": {
             "outlinewidth": 0,
             "ticks": ""
            },
            "colorscale": [
             [
              0,
              "#0d0887"
             ],
             [
              0.1111111111111111,
              "#46039f"
             ],
             [
              0.2222222222222222,
              "#7201a8"
             ],
             [
              0.3333333333333333,
              "#9c179e"
             ],
             [
              0.4444444444444444,
              "#bd3786"
             ],
             [
              0.5555555555555556,
              "#d8576b"
             ],
             [
              0.6666666666666666,
              "#ed7953"
             ],
             [
              0.7777777777777778,
              "#fb9f3a"
             ],
             [
              0.8888888888888888,
              "#fdca26"
             ],
             [
              1,
              "#f0f921"
             ]
            ],
            "type": "surface"
           }
          ],
          "table": [
           {
            "cells": {
             "fill": {
              "color": "#EBF0F8"
             },
             "line": {
              "color": "white"
             }
            },
            "header": {
             "fill": {
              "color": "#C8D4E3"
             },
             "line": {
              "color": "white"
             }
            },
            "type": "table"
           }
          ]
         },
         "layout": {
          "annotationdefaults": {
           "arrowcolor": "#2a3f5f",
           "arrowhead": 0,
           "arrowwidth": 1
          },
          "autotypenumbers": "strict",
          "coloraxis": {
           "colorbar": {
            "outlinewidth": 0,
            "ticks": ""
           }
          },
          "colorscale": {
           "diverging": [
            [
             0,
             "#8e0152"
            ],
            [
             0.1,
             "#c51b7d"
            ],
            [
             0.2,
             "#de77ae"
            ],
            [
             0.3,
             "#f1b6da"
            ],
            [
             0.4,
             "#fde0ef"
            ],
            [
             0.5,
             "#f7f7f7"
            ],
            [
             0.6,
             "#e6f5d0"
            ],
            [
             0.7,
             "#b8e186"
            ],
            [
             0.8,
             "#7fbc41"
            ],
            [
             0.9,
             "#4d9221"
            ],
            [
             1,
             "#276419"
            ]
           ],
           "sequential": [
            [
             0,
             "#0d0887"
            ],
            [
             0.1111111111111111,
             "#46039f"
            ],
            [
             0.2222222222222222,
             "#7201a8"
            ],
            [
             0.3333333333333333,
             "#9c179e"
            ],
            [
             0.4444444444444444,
             "#bd3786"
            ],
            [
             0.5555555555555556,
             "#d8576b"
            ],
            [
             0.6666666666666666,
             "#ed7953"
            ],
            [
             0.7777777777777778,
             "#fb9f3a"
            ],
            [
             0.8888888888888888,
             "#fdca26"
            ],
            [
             1,
             "#f0f921"
            ]
           ],
           "sequentialminus": [
            [
             0,
             "#0d0887"
            ],
            [
             0.1111111111111111,
             "#46039f"
            ],
            [
             0.2222222222222222,
             "#7201a8"
            ],
            [
             0.3333333333333333,
             "#9c179e"
            ],
            [
             0.4444444444444444,
             "#bd3786"
            ],
            [
             0.5555555555555556,
             "#d8576b"
            ],
            [
             0.6666666666666666,
             "#ed7953"
            ],
            [
             0.7777777777777778,
             "#fb9f3a"
            ],
            [
             0.8888888888888888,
             "#fdca26"
            ],
            [
             1,
             "#f0f921"
            ]
           ]
          },
          "colorway": [
           "#636efa",
           "#EF553B",
           "#00cc96",
           "#ab63fa",
           "#FFA15A",
           "#19d3f3",
           "#FF6692",
           "#B6E880",
           "#FF97FF",
           "#FECB52"
          ],
          "font": {
           "color": "#2a3f5f"
          },
          "geo": {
           "bgcolor": "white",
           "lakecolor": "white",
           "landcolor": "#E5ECF6",
           "showlakes": true,
           "showland": true,
           "subunitcolor": "white"
          },
          "hoverlabel": {
           "align": "left"
          },
          "hovermode": "closest",
          "mapbox": {
           "style": "light"
          },
          "paper_bgcolor": "white",
          "plot_bgcolor": "#E5ECF6",
          "polar": {
           "angularaxis": {
            "gridcolor": "white",
            "linecolor": "white",
            "ticks": ""
           },
           "bgcolor": "#E5ECF6",
           "radialaxis": {
            "gridcolor": "white",
            "linecolor": "white",
            "ticks": ""
           }
          },
          "scene": {
           "xaxis": {
            "backgroundcolor": "#E5ECF6",
            "gridcolor": "white",
            "gridwidth": 2,
            "linecolor": "white",
            "showbackground": true,
            "ticks": "",
            "zerolinecolor": "white"
           },
           "yaxis": {
            "backgroundcolor": "#E5ECF6",
            "gridcolor": "white",
            "gridwidth": 2,
            "linecolor": "white",
            "showbackground": true,
            "ticks": "",
            "zerolinecolor": "white"
           },
           "zaxis": {
            "backgroundcolor": "#E5ECF6",
            "gridcolor": "white",
            "gridwidth": 2,
            "linecolor": "white",
            "showbackground": true,
            "ticks": "",
            "zerolinecolor": "white"
           }
          },
          "shapedefaults": {
           "line": {
            "color": "#2a3f5f"
           }
          },
          "ternary": {
           "aaxis": {
            "gridcolor": "white",
            "linecolor": "white",
            "ticks": ""
           },
           "baxis": {
            "gridcolor": "white",
            "linecolor": "white",
            "ticks": ""
           },
           "bgcolor": "#E5ECF6",
           "caxis": {
            "gridcolor": "white",
            "linecolor": "white",
            "ticks": ""
           }
          },
          "title": {
           "x": 0.05
          },
          "xaxis": {
           "automargin": true,
           "gridcolor": "white",
           "linecolor": "white",
           "ticks": "",
           "title": {
            "standoff": 15
           },
           "zerolinecolor": "white",
           "zerolinewidth": 2
          },
          "yaxis": {
           "automargin": true,
           "gridcolor": "white",
           "linecolor": "white",
           "ticks": "",
           "title": {
            "standoff": 15
           },
           "zerolinecolor": "white",
           "zerolinewidth": 2
          }
         }
        },
        "title": {
         "text": "Distribución de etnia"
        },
        "xaxis": {
         "title": {
          "text": "Etnia"
         }
        },
        "yaxis": {
         "title": {
          "text": "Frequency"
         }
        }
       }
      }
     },
     "metadata": {},
     "output_type": "display_data"
    }
   ],
   "source": [
    "histograms_comparison({'Tumor':tumor_samples['etnia'], 'Normal':normal_samples['etnia']},\n",
    "                     'Distribución de etnia', 'Etnia')"
   ]
  },
  {
   "cell_type": "code",
   "execution_count": 11,
   "metadata": {
    "scrolled": true
   },
   "outputs": [
    {
     "data": {
      "application/vnd.plotly.v1+json": {
       "config": {
        "plotlyServerURL": "https://plot.ly"
       },
       "data": [
        {
         "name": "Tumor",
         "opacity": 0.85,
         "type": "histogram",
         "x": [
          "white",
          "white",
          "white",
          "white",
          "not reported",
          "not reported",
          "not reported",
          "asian",
          "not reported",
          "black or african american",
          "black or african american",
          "white",
          "not reported",
          "not reported",
          "white",
          "white",
          "not reported",
          "not reported",
          "black or african american",
          "not reported",
          "white",
          "white",
          "not reported",
          "not reported",
          "not reported",
          "not reported",
          "white",
          "white",
          "not reported",
          "not reported",
          "white",
          "white",
          "white",
          "white",
          "not reported",
          "white",
          "white",
          "white",
          "white",
          "not reported",
          "white",
          "not reported",
          "white",
          "white",
          "white",
          "white",
          "white",
          "white",
          "not reported",
          "white",
          "white",
          "white",
          "white",
          "white",
          "not reported",
          "white",
          "white",
          "white",
          "white",
          "asian",
          "white",
          "white",
          "white",
          "white",
          "white",
          "white",
          "asian",
          "not reported",
          "white",
          "black or african american",
          "black or african american",
          "white",
          "white",
          "white",
          "white",
          "asian",
          "white",
          "white",
          "white",
          "white",
          "black or african american",
          "not reported",
          "white",
          "black or african american",
          "white",
          "not reported",
          "not reported",
          "not reported",
          "white",
          "not reported",
          "not reported",
          "not reported",
          "white",
          "white",
          "white",
          "not reported",
          "white",
          "not reported",
          "white",
          "not reported",
          "white",
          "asian",
          "white",
          "asian",
          "white",
          "not reported",
          "not reported",
          "white",
          "white",
          "not reported",
          "white",
          "black or african american",
          "white",
          "not reported",
          "white",
          "not reported",
          "white",
          "white",
          "white",
          "white",
          "white",
          "white",
          "white",
          "white",
          "not reported",
          "white",
          "not reported",
          "white",
          "not reported",
          "white",
          "white",
          "black or african american",
          "white",
          "white",
          "not reported",
          "white",
          "not reported",
          "black or african american",
          "white",
          "white",
          "white",
          "white",
          "white",
          "white",
          "not reported",
          "not reported",
          "white",
          "not reported",
          "white",
          "not reported",
          "asian",
          "white",
          "white",
          "not reported",
          "white",
          "white",
          "black or african american",
          "white",
          "asian",
          "white",
          "white",
          "black or african american",
          "white",
          "white",
          "asian",
          "white",
          "white",
          "white",
          "white",
          "black or african american",
          "white",
          "not reported",
          "white",
          "white",
          "white",
          "white",
          "not reported",
          "white",
          "not reported",
          "white",
          "white",
          "not reported",
          "not reported",
          "not reported",
          "asian",
          "black or african american",
          "asian",
          "not reported",
          "not reported",
          "not reported",
          "white",
          "white",
          "white",
          "white",
          "white",
          "white",
          "white",
          "white",
          "white",
          "white",
          "not reported",
          "black or african american",
          "black or african american",
          "not reported",
          "white",
          "white",
          "white",
          "white",
          "white",
          "white",
          "white",
          "black or african american",
          "white",
          "white",
          "white",
          "black or african american",
          "white",
          "white",
          "white",
          "white",
          "white",
          "white",
          "white",
          "white",
          "white",
          "not reported",
          "white",
          "asian",
          "not reported",
          "white",
          "white",
          "black or african american",
          "not reported",
          "white",
          "not reported",
          "white",
          "not reported",
          "white",
          "white",
          "white",
          "white",
          "white",
          "white",
          "white",
          "white",
          "white",
          "white",
          "asian",
          "not reported",
          "white",
          "white",
          "not reported",
          "not reported",
          "white",
          "not reported",
          "black or african american",
          "black or african american",
          "white",
          "white",
          "white",
          "asian",
          "white",
          "white",
          "white",
          "not reported",
          "white",
          "white",
          "white",
          "white",
          "white",
          "white",
          "white",
          "white",
          "not reported",
          "not reported",
          "not reported",
          "asian",
          "white",
          "not reported",
          "not reported",
          "white",
          "not reported",
          "white",
          "white",
          "white",
          "not reported",
          "white",
          "not reported",
          "asian",
          "black or african american",
          "white",
          "not reported",
          "not reported",
          "asian",
          "white",
          "not reported",
          "asian",
          "not reported",
          "black or african american",
          "not reported",
          "white",
          "white",
          "white",
          "white",
          "white",
          "white",
          "white",
          "asian",
          "white",
          "asian",
          "white",
          "asian"
         ]
        },
        {
         "name": "Normal",
         "opacity": 0.85,
         "type": "histogram",
         "x": [
          "white",
          "white",
          "white",
          "white",
          "white",
          "white",
          "black or african american",
          "white",
          "white",
          "white",
          "white",
          "white",
          "white",
          "white",
          "white",
          "black or african american",
          "white",
          "white",
          "white",
          "white",
          "white",
          "white",
          "white",
          "white",
          "white",
          "white",
          "white"
         ]
        }
       ],
       "layout": {
        "barmode": "overlay",
        "template": {
         "data": {
          "bar": [
           {
            "error_x": {
             "color": "#2a3f5f"
            },
            "error_y": {
             "color": "#2a3f5f"
            },
            "marker": {
             "line": {
              "color": "#E5ECF6",
              "width": 0.5
             },
             "pattern": {
              "fillmode": "overlay",
              "size": 10,
              "solidity": 0.2
             }
            },
            "type": "bar"
           }
          ],
          "barpolar": [
           {
            "marker": {
             "line": {
              "color": "#E5ECF6",
              "width": 0.5
             },
             "pattern": {
              "fillmode": "overlay",
              "size": 10,
              "solidity": 0.2
             }
            },
            "type": "barpolar"
           }
          ],
          "carpet": [
           {
            "aaxis": {
             "endlinecolor": "#2a3f5f",
             "gridcolor": "white",
             "linecolor": "white",
             "minorgridcolor": "white",
             "startlinecolor": "#2a3f5f"
            },
            "baxis": {
             "endlinecolor": "#2a3f5f",
             "gridcolor": "white",
             "linecolor": "white",
             "minorgridcolor": "white",
             "startlinecolor": "#2a3f5f"
            },
            "type": "carpet"
           }
          ],
          "choropleth": [
           {
            "colorbar": {
             "outlinewidth": 0,
             "ticks": ""
            },
            "type": "choropleth"
           }
          ],
          "contour": [
           {
            "colorbar": {
             "outlinewidth": 0,
             "ticks": ""
            },
            "colorscale": [
             [
              0,
              "#0d0887"
             ],
             [
              0.1111111111111111,
              "#46039f"
             ],
             [
              0.2222222222222222,
              "#7201a8"
             ],
             [
              0.3333333333333333,
              "#9c179e"
             ],
             [
              0.4444444444444444,
              "#bd3786"
             ],
             [
              0.5555555555555556,
              "#d8576b"
             ],
             [
              0.6666666666666666,
              "#ed7953"
             ],
             [
              0.7777777777777778,
              "#fb9f3a"
             ],
             [
              0.8888888888888888,
              "#fdca26"
             ],
             [
              1,
              "#f0f921"
             ]
            ],
            "type": "contour"
           }
          ],
          "contourcarpet": [
           {
            "colorbar": {
             "outlinewidth": 0,
             "ticks": ""
            },
            "type": "contourcarpet"
           }
          ],
          "heatmap": [
           {
            "colorbar": {
             "outlinewidth": 0,
             "ticks": ""
            },
            "colorscale": [
             [
              0,
              "#0d0887"
             ],
             [
              0.1111111111111111,
              "#46039f"
             ],
             [
              0.2222222222222222,
              "#7201a8"
             ],
             [
              0.3333333333333333,
              "#9c179e"
             ],
             [
              0.4444444444444444,
              "#bd3786"
             ],
             [
              0.5555555555555556,
              "#d8576b"
             ],
             [
              0.6666666666666666,
              "#ed7953"
             ],
             [
              0.7777777777777778,
              "#fb9f3a"
             ],
             [
              0.8888888888888888,
              "#fdca26"
             ],
             [
              1,
              "#f0f921"
             ]
            ],
            "type": "heatmap"
           }
          ],
          "heatmapgl": [
           {
            "colorbar": {
             "outlinewidth": 0,
             "ticks": ""
            },
            "colorscale": [
             [
              0,
              "#0d0887"
             ],
             [
              0.1111111111111111,
              "#46039f"
             ],
             [
              0.2222222222222222,
              "#7201a8"
             ],
             [
              0.3333333333333333,
              "#9c179e"
             ],
             [
              0.4444444444444444,
              "#bd3786"
             ],
             [
              0.5555555555555556,
              "#d8576b"
             ],
             [
              0.6666666666666666,
              "#ed7953"
             ],
             [
              0.7777777777777778,
              "#fb9f3a"
             ],
             [
              0.8888888888888888,
              "#fdca26"
             ],
             [
              1,
              "#f0f921"
             ]
            ],
            "type": "heatmapgl"
           }
          ],
          "histogram": [
           {
            "marker": {
             "pattern": {
              "fillmode": "overlay",
              "size": 10,
              "solidity": 0.2
             }
            },
            "type": "histogram"
           }
          ],
          "histogram2d": [
           {
            "colorbar": {
             "outlinewidth": 0,
             "ticks": ""
            },
            "colorscale": [
             [
              0,
              "#0d0887"
             ],
             [
              0.1111111111111111,
              "#46039f"
             ],
             [
              0.2222222222222222,
              "#7201a8"
             ],
             [
              0.3333333333333333,
              "#9c179e"
             ],
             [
              0.4444444444444444,
              "#bd3786"
             ],
             [
              0.5555555555555556,
              "#d8576b"
             ],
             [
              0.6666666666666666,
              "#ed7953"
             ],
             [
              0.7777777777777778,
              "#fb9f3a"
             ],
             [
              0.8888888888888888,
              "#fdca26"
             ],
             [
              1,
              "#f0f921"
             ]
            ],
            "type": "histogram2d"
           }
          ],
          "histogram2dcontour": [
           {
            "colorbar": {
             "outlinewidth": 0,
             "ticks": ""
            },
            "colorscale": [
             [
              0,
              "#0d0887"
             ],
             [
              0.1111111111111111,
              "#46039f"
             ],
             [
              0.2222222222222222,
              "#7201a8"
             ],
             [
              0.3333333333333333,
              "#9c179e"
             ],
             [
              0.4444444444444444,
              "#bd3786"
             ],
             [
              0.5555555555555556,
              "#d8576b"
             ],
             [
              0.6666666666666666,
              "#ed7953"
             ],
             [
              0.7777777777777778,
              "#fb9f3a"
             ],
             [
              0.8888888888888888,
              "#fdca26"
             ],
             [
              1,
              "#f0f921"
             ]
            ],
            "type": "histogram2dcontour"
           }
          ],
          "mesh3d": [
           {
            "colorbar": {
             "outlinewidth": 0,
             "ticks": ""
            },
            "type": "mesh3d"
           }
          ],
          "parcoords": [
           {
            "line": {
             "colorbar": {
              "outlinewidth": 0,
              "ticks": ""
             }
            },
            "type": "parcoords"
           }
          ],
          "pie": [
           {
            "automargin": true,
            "type": "pie"
           }
          ],
          "scatter": [
           {
            "fillpattern": {
             "fillmode": "overlay",
             "size": 10,
             "solidity": 0.2
            },
            "type": "scatter"
           }
          ],
          "scatter3d": [
           {
            "line": {
             "colorbar": {
              "outlinewidth": 0,
              "ticks": ""
             }
            },
            "marker": {
             "colorbar": {
              "outlinewidth": 0,
              "ticks": ""
             }
            },
            "type": "scatter3d"
           }
          ],
          "scattercarpet": [
           {
            "marker": {
             "colorbar": {
              "outlinewidth": 0,
              "ticks": ""
             }
            },
            "type": "scattercarpet"
           }
          ],
          "scattergeo": [
           {
            "marker": {
             "colorbar": {
              "outlinewidth": 0,
              "ticks": ""
             }
            },
            "type": "scattergeo"
           }
          ],
          "scattergl": [
           {
            "marker": {
             "colorbar": {
              "outlinewidth": 0,
              "ticks": ""
             }
            },
            "type": "scattergl"
           }
          ],
          "scattermapbox": [
           {
            "marker": {
             "colorbar": {
              "outlinewidth": 0,
              "ticks": ""
             }
            },
            "type": "scattermapbox"
           }
          ],
          "scatterpolar": [
           {
            "marker": {
             "colorbar": {
              "outlinewidth": 0,
              "ticks": ""
             }
            },
            "type": "scatterpolar"
           }
          ],
          "scatterpolargl": [
           {
            "marker": {
             "colorbar": {
              "outlinewidth": 0,
              "ticks": ""
             }
            },
            "type": "scatterpolargl"
           }
          ],
          "scatterternary": [
           {
            "marker": {
             "colorbar": {
              "outlinewidth": 0,
              "ticks": ""
             }
            },
            "type": "scatterternary"
           }
          ],
          "surface": [
           {
            "colorbar": {
             "outlinewidth": 0,
             "ticks": ""
            },
            "colorscale": [
             [
              0,
              "#0d0887"
             ],
             [
              0.1111111111111111,
              "#46039f"
             ],
             [
              0.2222222222222222,
              "#7201a8"
             ],
             [
              0.3333333333333333,
              "#9c179e"
             ],
             [
              0.4444444444444444,
              "#bd3786"
             ],
             [
              0.5555555555555556,
              "#d8576b"
             ],
             [
              0.6666666666666666,
              "#ed7953"
             ],
             [
              0.7777777777777778,
              "#fb9f3a"
             ],
             [
              0.8888888888888888,
              "#fdca26"
             ],
             [
              1,
              "#f0f921"
             ]
            ],
            "type": "surface"
           }
          ],
          "table": [
           {
            "cells": {
             "fill": {
              "color": "#EBF0F8"
             },
             "line": {
              "color": "white"
             }
            },
            "header": {
             "fill": {
              "color": "#C8D4E3"
             },
             "line": {
              "color": "white"
             }
            },
            "type": "table"
           }
          ]
         },
         "layout": {
          "annotationdefaults": {
           "arrowcolor": "#2a3f5f",
           "arrowhead": 0,
           "arrowwidth": 1
          },
          "autotypenumbers": "strict",
          "coloraxis": {
           "colorbar": {
            "outlinewidth": 0,
            "ticks": ""
           }
          },
          "colorscale": {
           "diverging": [
            [
             0,
             "#8e0152"
            ],
            [
             0.1,
             "#c51b7d"
            ],
            [
             0.2,
             "#de77ae"
            ],
            [
             0.3,
             "#f1b6da"
            ],
            [
             0.4,
             "#fde0ef"
            ],
            [
             0.5,
             "#f7f7f7"
            ],
            [
             0.6,
             "#e6f5d0"
            ],
            [
             0.7,
             "#b8e186"
            ],
            [
             0.8,
             "#7fbc41"
            ],
            [
             0.9,
             "#4d9221"
            ],
            [
             1,
             "#276419"
            ]
           ],
           "sequential": [
            [
             0,
             "#0d0887"
            ],
            [
             0.1111111111111111,
             "#46039f"
            ],
            [
             0.2222222222222222,
             "#7201a8"
            ],
            [
             0.3333333333333333,
             "#9c179e"
            ],
            [
             0.4444444444444444,
             "#bd3786"
            ],
            [
             0.5555555555555556,
             "#d8576b"
            ],
            [
             0.6666666666666666,
             "#ed7953"
            ],
            [
             0.7777777777777778,
             "#fb9f3a"
            ],
            [
             0.8888888888888888,
             "#fdca26"
            ],
            [
             1,
             "#f0f921"
            ]
           ],
           "sequentialminus": [
            [
             0,
             "#0d0887"
            ],
            [
             0.1111111111111111,
             "#46039f"
            ],
            [
             0.2222222222222222,
             "#7201a8"
            ],
            [
             0.3333333333333333,
             "#9c179e"
            ],
            [
             0.4444444444444444,
             "#bd3786"
            ],
            [
             0.5555555555555556,
             "#d8576b"
            ],
            [
             0.6666666666666666,
             "#ed7953"
            ],
            [
             0.7777777777777778,
             "#fb9f3a"
            ],
            [
             0.8888888888888888,
             "#fdca26"
            ],
            [
             1,
             "#f0f921"
            ]
           ]
          },
          "colorway": [
           "#636efa",
           "#EF553B",
           "#00cc96",
           "#ab63fa",
           "#FFA15A",
           "#19d3f3",
           "#FF6692",
           "#B6E880",
           "#FF97FF",
           "#FECB52"
          ],
          "font": {
           "color": "#2a3f5f"
          },
          "geo": {
           "bgcolor": "white",
           "lakecolor": "white",
           "landcolor": "#E5ECF6",
           "showlakes": true,
           "showland": true,
           "subunitcolor": "white"
          },
          "hoverlabel": {
           "align": "left"
          },
          "hovermode": "closest",
          "mapbox": {
           "style": "light"
          },
          "paper_bgcolor": "white",
          "plot_bgcolor": "#E5ECF6",
          "polar": {
           "angularaxis": {
            "gridcolor": "white",
            "linecolor": "white",
            "ticks": ""
           },
           "bgcolor": "#E5ECF6",
           "radialaxis": {
            "gridcolor": "white",
            "linecolor": "white",
            "ticks": ""
           }
          },
          "scene": {
           "xaxis": {
            "backgroundcolor": "#E5ECF6",
            "gridcolor": "white",
            "gridwidth": 2,
            "linecolor": "white",
            "showbackground": true,
            "ticks": "",
            "zerolinecolor": "white"
           },
           "yaxis": {
            "backgroundcolor": "#E5ECF6",
            "gridcolor": "white",
            "gridwidth": 2,
            "linecolor": "white",
            "showbackground": true,
            "ticks": "",
            "zerolinecolor": "white"
           },
           "zaxis": {
            "backgroundcolor": "#E5ECF6",
            "gridcolor": "white",
            "gridwidth": 2,
            "linecolor": "white",
            "showbackground": true,
            "ticks": "",
            "zerolinecolor": "white"
           }
          },
          "shapedefaults": {
           "line": {
            "color": "#2a3f5f"
           }
          },
          "ternary": {
           "aaxis": {
            "gridcolor": "white",
            "linecolor": "white",
            "ticks": ""
           },
           "baxis": {
            "gridcolor": "white",
            "linecolor": "white",
            "ticks": ""
           },
           "bgcolor": "#E5ECF6",
           "caxis": {
            "gridcolor": "white",
            "linecolor": "white",
            "ticks": ""
           }
          },
          "title": {
           "x": 0.05
          },
          "xaxis": {
           "automargin": true,
           "gridcolor": "white",
           "linecolor": "white",
           "ticks": "",
           "title": {
            "standoff": 15
           },
           "zerolinecolor": "white",
           "zerolinewidth": 2
          },
          "yaxis": {
           "automargin": true,
           "gridcolor": "white",
           "linecolor": "white",
           "ticks": "",
           "title": {
            "standoff": 15
           },
           "zerolinecolor": "white",
           "zerolinewidth": 2
          }
         }
        },
        "title": {
         "text": "Distribución de ascendencia"
        },
        "xaxis": {
         "title": {
          "text": "Ascendencia"
         }
        },
        "yaxis": {
         "title": {
          "text": "Frequency"
         }
        }
       }
      }
     },
     "metadata": {},
     "output_type": "display_data"
    }
   ],
   "source": [
    "histograms_comparison({'Tumor':tumor_samples['race'], 'Normal':normal_samples['race']},\n",
    "                     'Distribución de ascendencia', 'Ascendencia')"
   ]
  },
  {
   "attachments": {},
   "cell_type": "markdown",
   "metadata": {},
   "source": [
    "## PCA"
   ]
  },
  {
   "cell_type": "code",
   "execution_count": 12,
   "metadata": {},
   "outputs": [],
   "source": [
    "from sklearn.decomposition import PCA\n",
    "from sklearn.cluster import KMeans\n",
    "from sklearn.preprocessing import MinMaxScaler"
   ]
  },
  {
   "cell_type": "code",
   "execution_count": 13,
   "metadata": {},
   "outputs": [],
   "source": [
    "x, y = df.drop(columns = ['sample_type', 'race', 'etnia', 'file_id', 'size', 'disease']), df['sample_type']\n",
    "x['age'] = MinMaxScaler().fit_transform(df[['age']])\n",
    "\n",
    "pca = PCA(n_components=2)\n",
    "x_pca = pca.fit_transform(x)"
   ]
  },
  {
   "cell_type": "code",
   "execution_count": 14,
   "metadata": {},
   "outputs": [
    {
     "data": {
      "image/png": "[encoded data removed]",
      "text/plain": [
       "<Figure size 640x480 with 1 Axes>"
      ]
     },
     "metadata": {},
     "output_type": "display_data"
    }
   ],
   "source": [
    "from matplotlib.lines import Line2D\n",
    "\n",
    "plt.scatter(x_pca[:,0], x_pca[:,1], c =df['sample_type'].replace({'Solid Tissue Normal':'blue', 'Primary Tumor':'red'}) )\n",
    "\n",
    "legend_elements = [Line2D([0], [0], marker='o', color='w', label='Tumor',\n",
    "                          markerfacecolor='red', markersize=10),\n",
    "                   Line2D([0], [0], marker='o', color='w', label='No Tumor',\n",
    "                          markerfacecolor='blue', markersize=10)]\n",
    "plt.legend(handles=legend_elements, loc='upper right')\n",
    "\n",
    "plt.title('Distribución de datos (PCA)')\n",
    "plt.show()"
   ]
  },
  {
   "attachments": {},
   "cell_type": "markdown",
   "metadata": {},
   "source": [
    "## Correlaciones"
   ]
  },
  {
   "cell_type": "code",
   "execution_count": 15,
   "metadata": {},
   "outputs": [],
   "source": [
    "df['tumor'] = df['sample_type'].replace({'Solid Tissue Normal':0, 'Primary Tumor':1 })"
   ]
  },
  {
   "cell_type": "code",
   "execution_count": 16,
   "metadata": {},
   "outputs": [],
   "source": [
    "cpg_corr = df.corrwith(df['tumor'], numeric_only=True).abs().sort_values(ascending=False)\n",
    "top_10_cpg = cpg_corr[1:11]"
   ]
  },
  {
   "cell_type": "code",
   "execution_count": 17,
   "metadata": {},
   "outputs": [],
   "source": [
    "plot_data = df[top_10_cpg.index.tolist() + ['tumor']]\n",
    "data_melted = plot_data.melt(id_vars='tumor', var_name='Feature', value_name='Value')"
   ]
  },
  {
   "cell_type": "code",
   "execution_count": 18,
   "metadata": {},
   "outputs": [
    {
     "data": {
      "image/png": "[encoded data removed]",
      "text/plain": [
       "<Figure size 1600x800 with 1 Axes>"
      ]
     },
     "metadata": {},
     "output_type": "display_data"
    }
   ],
   "source": [
    "violin_plot(data_melted, 'Feature', 'Value', 'tumor', '10 características más correlacionadas con \"tumor\"')"
   ]
  },
  {
   "attachments": {},
   "cell_type": "markdown",
   "metadata": {},
   "source": [
    "## Relación de CpG con genes"
   ]
  },
  {
   "attachments": {},
   "cell_type": "markdown",
   "metadata": {},
   "source": [
    "### Lectura de manifiesto"
   ]
  },
  {
   "cell_type": "code",
   "execution_count": 21,
   "metadata": {},
   "outputs": [
    {
     "name": "stderr",
     "output_type": "stream",
     "text": [
      "C:\\Users\\drago\\AppData\\Local\\Temp\\ipykernel_3548\\833732811.py:1: DtypeWarning:\n",
      "\n",
      "Columns (2,4,11,14,15) have mixed types. Specify dtype option on import or set low_memory=False.\n",
      "\n"
     ]
    }
   ],
   "source": [
    "df_manifest = pd.read_csv(f\"{data_raw_path}/manifest.csv\")\n",
    "# Dejar sólo columnas importantes, quitar aquellas filas que no aparecen en Illumina 27k\n",
    "manifest_no_na = df_manifest[[\"IlmnID\", \"UCSC_RefGene_Name\", \"Methyl27_Loci\"]].dropna()\n",
    "# Crear mapeo gen->lista de CpG\n",
    "mapping = manifest_no_na[[\"IlmnID\", \"UCSC_RefGene_Name\"]].groupby(by=\"UCSC_RefGene_Name\").agg(lambda x: x.tolist())\n",
    "mapping = mapping.reset_index()"
   ]
  },
  {
   "cell_type": "code",
   "execution_count": 30,
   "metadata": {},
   "outputs": [],
   "source": [
    "mapping['frec'] = mapping['IlmnID'].apply(lambda x: len(x))\n",
    "mapping = mapping.sort_values(by='frec', ascending=False)"
   ]
  },
  {
   "attachments": {},
   "cell_type": "markdown",
   "metadata": {},
   "source": [
    "### Distribución de más comunes"
   ]
  },
  {
   "cell_type": "code",
   "execution_count": 36,
   "metadata": {},
   "outputs": [],
   "source": [
    "features_genes = manifest_no_na[manifest_no_na.IlmnID.isin(df)]\n",
    "common_genes = features_genes['UCSC_RefGene_Name'].value_counts()\n",
    "top_5_genes = common_genes.index[:5]"
   ]
  },
  {
   "cell_type": "code",
   "execution_count": null,
   "metadata": {},
   "outputs": [],
   "source": [
    "for gene in top_5_genes:\n",
    "    cpgs = mapping[mapping['UCSC_RefGene_Name']==gene]['IlmnID'].iloc[0]\n",
    "    gene_cpgs = df.loc[:, df.columns.isin(cpgs+['tumor'])]\n",
    "    data_melted = gene_cpgs.melt(id_vars='tumor', var_name='Feature', value_name='Value')\n",
    "    violin_plot(data_melted, 'Feature', 'Value', 'tumor', f'Distribución de sitios CPG asociados a gen {gene}')\n",
    "    "
   ]
  },
  {
   "attachments": {},
   "cell_type": "markdown",
   "metadata": {},
   "source": [
    "#### Seleccionando CpGs"
   ]
  },
  {
   "cell_type": "code",
   "execution_count": 46,
   "metadata": {},
   "outputs": [],
   "source": [
    "from gene_preprocessing import SelectByIterRF"
   ]
  },
  {
   "cell_type": "code",
   "execution_count": 51,
   "metadata": {},
   "outputs": [],
   "source": [
    "x, y = df.drop(columns = ['file_id', 'size', 'disease', 'sample_type',\n",
    "       'age', 'race', 'etnia', 'tumor']), df['sample_type']\n",
    "x = SelectByIterRF().fit_transform(x, y)"
   ]
  },
  {
   "cell_type": "code",
   "execution_count": 53,
   "metadata": {},
   "outputs": [
    {
     "data": {
      "text/plain": [
       "Index(['WT1;WT1;WT1;WT1', 'GATA4', 'KLK10;KLK10;KLK10'], dtype='object', name='UCSC_RefGene_Name')"
      ]
     },
     "execution_count": 53,
     "metadata": {},
     "output_type": "execute_result"
    }
   ],
   "source": [
    "features_genes = manifest_no_na[manifest_no_na.IlmnID.isin(x)]\n",
    "common_genes = features_genes['UCSC_RefGene_Name'].value_counts()\n",
    "top_3_genes = common_genes.index[:3]\n",
    "top_3_genes"
   ]
  },
  {
   "cell_type": "code",
   "execution_count": 60,
   "metadata": {},
   "outputs": [],
   "source": [
    "pd.options.mode.chained_assignment = None \n",
    "top_3_df = []\n",
    "for gene in top_3_genes:\n",
    "    cpgs = mapping[mapping['UCSC_RefGene_Name']==gene]['IlmnID'].iloc[0]\n",
    "    df_temp = df.loc[:, df.columns.isin(cpgs+['tumor'])]\n",
    "    df_temp['cpg_mean'] = df_temp.drop(columns=['tumor']).mean(axis=1)\n",
    "    top_3_df.append(df_temp)"
   ]
  },
  {
   "cell_type": "code",
   "execution_count": 74,
   "metadata": {},
   "outputs": [],
   "source": [
    "def plot_mean_age(df_gene, gene='WT1'):\n",
    "    fig = px.scatter(y=df_gene['cpg_mean'], x = df['age'], color = df_gene['tumor'].replace({1:'Tumor', 0:'No tumor'}),\n",
    "           labels = {'x':'Edad', 'y': 'Promedio de CpG', 'color': 'Tumor'},\n",
    "           title = f'Promedio CpG seleccionados vs Edad para gen {gene}')\n",
    "    fig.show()\n",
    "def heatmap_gene(df_gene, gene='WT1'):\n",
    "       plt.figure(figsize=(12,6))\n",
    "       hm = sns.heatmap(df_gene, yticklabels=False)\n",
    "       plt.title(f'Heatmap Features de gen {gene}')\n",
    "       plt.xticks(rotation=45)\n",
    "       plt.show()"
   ]
  },
  {
   "attachments": {},
   "cell_type": "markdown",
   "metadata": {},
   "source": [
    "##### WT1"
   ]
  },
  {
   "cell_type": "code",
   "execution_count": 75,
   "metadata": {},
   "outputs": [
    {
     "data": {
      "image/png": "[encoded data removed]",
      "text/plain": [
       "<Figure size 1200x600 with 2 Axes>"
      ]
     },
     "metadata": {},
     "output_type": "display_data"
    }
   ],
   "source": [
    "import seaborn as sns\n",
    "import matplotlib.pyplot as plt\n",
    "# Heatmap de features menos correlacionadas\n",
    "df_wt1 = top_3_df[0].sort_values(by='tumor')\n",
    "heatmap_gene(df_wt1)\n"
   ]
  },
  {
   "cell_type": "code",
   "execution_count": 73,
   "metadata": {},
   "outputs": [
    {
     "data": {
      "application/vnd.plotly.v1+json": {
       "config": {
        "plotlyServerURL": "https://plot.ly"
       },
       "data": [
        {
         "hovertemplate": "Tumor=No tumor<br>Edad=%{x}<br>Promedio de CpG=%{y}<extra></extra>",
         "legendgroup": "No tumor",
         "marker": {
          "color": "#636efa",
          "symbol": "circle"
         },
         "mode": "markers",
         "name": "No tumor",
         "orientation": "v",
         "showlegend": true,
         "type": "scatter",
         "x": [
          79.32648870636551,
          55.17316906228611,
          69.15537303216975,
          54.30800821355236,
          65.00205338809035,
          61.74948665297741,
          52.83504449007529,
          62.86652977412731,
          63.00068446269678,
          37.11430527036276,
          69.43737166324435,
          52.668035592060235,
          64.68993839835728,
          83.75085557837097,
          57.3305954825462,
          47.841204654346335,
          78.57357973990418,
          42.997946611909654,
          80.91718001368925,
          40.982888432580424,
          68.33675564681725,
          40.77754962354552,
          43.540041067761805,
          82.67214236824093,
          57.002053388090346,
          62.58179329226557,
          41.281314168377826
         ],
         "xaxis": "x",
         "y": [
          0.2344117469354914,
          0.16330579256549524,
          0.2044441609109199,
          0.18850290165513195,
          0.167471780287016,
          0.2108169687826949,
          0.1592739667593391,
          0.16775407374487095,
          0.21109143259592278,
          0.23426323723022396,
          0.24954774438606103,
          0.22197306993525212,
          0.19567719809369968,
          0.18873709370698585,
          0.1983507835537652,
          0.2104972304703537,
          0.1872092181968257,
          0.19983246946683558,
          0.20366198774400562,
          0.2084918623049308,
          0.25209836343800346,
          0.207245298711161,
          0.180025891452904,
          0.21255642235118694,
          0.2222158673111202,
          0.24638772414842067,
          0.22527265075224887
         ],
         "yaxis": "y"
        },
        {
         "hovertemplate": "Tumor=Tumor<br>Edad=%{x}<br>Promedio de CpG=%{y}<extra></extra>",
         "legendgroup": "Tumor",
         "marker": {
          "color": "#EF553B",
          "symbol": "circle"
         },
         "mode": "markers",
         "name": "Tumor",
         "orientation": "v",
         "showlegend": true,
         "type": "scatter",
         "x": [
          57.50034223134839,
          51.32922655715264,
          50.2258726899384,
          54.247775496235455,
          59.2498288843258,
          79.71252566735113,
          50.71594798083505,
          71.95345653661876,
          57.30321697467488,
          55.70704996577687,
          80.83504449007529,
          66.1327857631759,
          45.7741273100616,
          65.37440109514031,
          54.21492128678987,
          89.99863107460644,
          79.41409993155374,
          80.17796030116358,
          48.41067761806981,
          80.41067761806981,
          67.60301163586584,
          42.54620123203286,
          35.15674195756331,
          56.31759069130732,
          45.26488706365503,
          62.171115674195754,
          80.16427104722793,
          61.2539356605065,
          73.43737166324435,
          45.489390828199866,
          62.17659137577002,
          57.11430527036276,
          50.70225872689939,
          53.08418891170431,
          73.49760438056126,
          49.385352498288846,
          34.61190965092403,
          46.06160164271047,
          78.66666666666667,
          34.691307323750856,
          72.3504449007529,
          66.34360027378509,
          48.35044490075291,
          51.31006160164271,
          48.77481177275838,
          58.666666666666664,
          77.58521560574948,
          71.1129363449692,
          76.88980150581793,
          56.88158795345654,
          71.1129363449692,
          53.15537303216975,
          41.30047912388775,
          50.70225872689939,
          61.01026694045174,
          50.6694045174538,
          45.19644079397673,
          58.8062970568104,
          60.596851471594796,
          46.92950034223135,
          45.7741273100616,
          58.12457221081451,
          52.33127994524298,
          64.53114305270363,
          37.79603011635866,
          88.7173169062286,
          73.08145106091717,
          83.58110882956879,
          69.75222450376455,
          45.72758384668035,
          73.91649555099247,
          51.00068446269678,
          71.16769336071184,
          47.29637234770705,
          52.610540725530456,
          74.77891854893909,
          67.75085557837097,
          78.29158110882958,
          85.83436002737851,
          43.186858316221766,
          69.41820670773443,
          81.88090349075975,
          55.70431211498973,
          56.68720054757016,
          52.33949349760438,
          62.168377823408626,
          66.83367556468173,
          65.50581793292265,
          88.87611225188228,
          79.32648870636551,
          64.83778234086242,
          70.25051334702259,
          53.35797399041752,
          36.24366872005476,
          68.47364818617385,
          66.33812457221082,
          64.73921971252567,
          64.99931553730322,
          79.75633127994524,
          48.92813141683778,
          63.148528405201915,
          76.5968514715948,
          46.06160164271047,
          59.19780971937029,
          78.47775496235455,
          50.71594798083505,
          63.775496235455165,
          60.662559890485966,
          66.43668720054757,
          66.91854893908283,
          67.129363449692,
          69.25119780971937,
          47.6933607118412,
          61.497604380561256,
          62.450376454483234,
          56.60506502395619,
          62.620123203285424,
          52.865160848733744,
          47.748117727583846,
          46.614647501711154,
          64.50376454483231,
          54.001368925393564,
          61.667351129363446,
          58.76522929500342,
          58.4476386036961,
          68.03559206023272,
          56.95824777549623,
          42.691307323750856,
          69.74674880219028,
          52.747433264887064,
          58.6611909650924,
          84.08213552361396,
          69.56331279945243,
          59.49623545516769,
          56.04654346338125,
          54.119096509240244,
          55.72073921971253,
          64.68993839835728,
          84.82956878850102,
          39.68240930869268,
          73.88911704312115,
          51.676933607118414,
          49.319644079397676,
          43.75085557837098,
          70.66666666666667,
          68.8788501026694,
          37.45379876796714,
          69.85626283367556,
          56.1368925393566,
          63.79192334017796,
          41.8590006844627,
          65.49486652977413,
          50.46680355920602,
          66.59000684462697,
          74.36824093086926,
          42.77891854893908,
          35.15674195756331,
          51.676933607118414,
          75.91786447638604,
          56.60506502395619,
          74.05065023956195,
          63.59753593429158,
          56.709103353867214,
          65.75496235455168,
          62.69678302532512,
          45.83709787816564,
          51.97535934291581,
          41.281314168377826,
          63.419575633128,
          62.02874743326489,
          76.50102669404518,
          68.25188227241615,
          67.65229295003422,
          75.44695414099931,
          55.66598220396988,
          51.663244353182755,
          89.66461327857631,
          65.28405201916496,
          58.42026009582478,
          60.84052019164955,
          47.15674195756331,
          36.87063655030801,
          61.95482546201232,
          63.0280629705681,
          64.77754962354551,
          76.43258042436688,
          56.72553045859001,
          62.157426420260094,
          45.51129363449692,
          62.417522245037645,
          58.666666666666664,
          55.044490075290895,
          60.54757015742642,
          73.16358658453115,
          51.860369609856264,
          45.82067077344285,
          62.417522245037645,
          53.478439425051334,
          41.95482546201232,
          72.3504449007529,
          79.18685831622176,
          39.68240930869268,
          38.280629705681044,
          61.26488706365503,
          78.10814510609171,
          35.60301163586585,
          50.90759753593429,
          52.878850102669404,
          54.42847364818618,
          48.13141683778234,
          49.270362765229294,
          72.68446269678303,
          50.90759753593429,
          41.8507871321013,
          53.14989733059548,
          43.540041067761805,
          39.7864476386037,
          48.41067761806981,
          59.66598220396988,
          41.002053388090346,
          29.60164271047228,
          62.666666666666664,
          48.75290896646133,
          50.98151950718686,
          51.611225188227245,
          89.20739219712526,
          74.99794661190965,
          48.48733744010951,
          66.49691991786447,
          45.8590006844627,
          66.74880219028063,
          52.45722108145106,
          81.64271047227926,
          79.68240930869267,
          39.01437371663244,
          76.21355236139631,
          66.3709787816564,
          42.691307323750856,
          56.61327857631759,
          70.29158110882958,
          40.16153319644079,
          65.85626283367556,
          57.53319644079398,
          88.7173169062286,
          34.85010266940452,
          68.74743326488706,
          61.828884325804246,
          51.99452429842574,
          40.747433264887064,
          70.08350444900753,
          41.84531143052703,
          44.837782340862425,
          51.35934291581109,
          65.28405201916496,
          68.4435318275154,
          59.98631074606434,
          61.99041752224504,
          64.79671457905545,
          73.42094455852155,
          57.11978097193703,
          60.84052019164955,
          66.08350444900753,
          39.7864476386037,
          67.1895961670089,
          40.04380561259411,
          38.288843258042434,
          52.09582477754962,
          78.10814510609171,
          61.38809034907597,
          52.435318275154,
          62.51334702258727,
          35.49623545516769,
          80.0848733744011,
          76.66803559206024,
          82.04243668720055,
          32.65982203969884,
          69.16632443531827,
          81.58795345653662,
          46.743326488706366,
          81.74674880219028,
          46.15468856947297,
          71.20328542094455,
          53.779603011635864,
          35.60301163586585,
          74.25325119780972,
          45.73579739904175,
          75.16769336071184,
          52.04654346338125,
          41.210130047912386,
          66.43668720054757,
          62.110882956878854,
          58.91854893908282,
          84.16700889801506,
          49.66461327857632,
          76.69541409993155,
          89.91649555099247,
          54.902121834360024,
          76.83230663928816,
          64.45722108145107,
          73.16632443531827,
          56.61327857631759,
          42.502395619438744,
          54.119096509240244,
          36.71184120465435,
          70.24777549623545,
          65.65366187542779,
          62.43668720054757,
          50.666666666666664,
          62.02874743326489,
          80.66529774127311,
          36.8104038329911,
          46.666666666666664
         ],
         "xaxis": "x",
         "y": [
          0.5711123760489455,
          0.37396718664553413,
          0.5739878909866026,
          0.3988443427589096,
          0.3116697423620799,
          0.29516816068147794,
          0.6327120267359747,
          0.4291526999113842,
          0.4056285619482471,
          0.1438439172585473,
          0.6942641169776081,
          0.8151146831791175,
          0.8492732971530536,
          0.6056797089587183,
          0.4551317893745995,
          0.39829620808277144,
          0.35288061622629896,
          0.5492911817180018,
          0.3673725738778751,
          0.14105942628811097,
          0.4871369664353578,
          0.5074260348536168,
          0.39350088851842163,
          0.7300764900999613,
          0.6181858578822627,
          0.5724347440529648,
          0.6509902708422519,
          0.45714104467632366,
          0.5037952716589135,
          0.7594630314553306,
          0.8615212751679859,
          0.6969447252195895,
          0.5671722190875828,
          0.4970511186581123,
          0.6713839256476936,
          0.7796755425854013,
          0.6182199928027948,
          0.5717959217828663,
          0.2676145743780154,
          0.2740740967982666,
          0.4965275940202954,
          0.5741494017163722,
          0.6944592195351397,
          0.6588982668559303,
          0.46810119848752374,
          0.3065540661502399,
          0.7598960744331333,
          0.2485753802646432,
          0.21891902611127934,
          0.33027667338778405,
          0.4029046078104614,
          0.6716768184940902,
          0.5439921928724054,
          0.7948596139653272,
          0.4854431999434583,
          0.5837400363870522,
          0.5551902681586726,
          0.5285225775114383,
          0.48139774677778024,
          0.7999677160345703,
          0.26693320998053865,
          0.5958820464927068,
          0.4785645796367498,
          0.6772827794497958,
          0.5168634665909481,
          0.2901019736458744,
          0.7487552694983923,
          0.41760706745215015,
          0.6059478585110274,
          0.35054943024,
          0.4319425375043532,
          0.5450295660668741,
          0.6308058587659939,
          0.7221342905070485,
          0.6798515838933051,
          0.5615823853561072,
          0.5291596223822433,
          0.6489142128307956,
          0.4808747595187074,
          0.6256838879687893,
          0.7020694343935872,
          0.6584343955469766,
          0.5115726450689497,
          0.6329017860869998,
          0.7836045840560403,
          0.8518377652048101,
          0.3425855802621359,
          0.7106145689304293,
          0.6291793744284803,
          0.41713199398750694,
          0.2972103616020129,
          0.38864579011022155,
          0.5752457401463709,
          0.5341586558932712,
          0.517360467334973,
          0.6667185610407972,
          0.6378575235265428,
          0.31395956152983556,
          0.615580421260346,
          0.8294250491165933,
          0.638831313869016,
          0.6756137955962992,
          0.17361441798273922,
          0.686963129292343,
          0.5876368940150836,
          0.6650559907116576,
          0.585003615436578,
          0.44217227409048676,
          0.3489502176510083,
          0.49639682334401436,
          0.6623935169495748,
          0.6921393692456435,
          0.5281822606842267,
          0.4257955303783384,
          0.5391383159555895,
          0.765505101002613,
          0.4976977394745274,
          0.7925782041377266,
          0.45854317343264367,
          0.8355008124316075,
          0.35026163032169755,
          0.6842315407830881,
          0.6131249286252644,
          0.40828076460732315,
          0.5045829406732207,
          0.4415090418073252,
          0.8185679761047511,
          0.42662720197000303,
          0.3734721982880898,
          0.48248929678428887,
          0.6407086048430066,
          0.5419834590657246,
          0.4414207348154799,
          0.7040512233499673,
          0.27803752113073055,
          0.7813802021269468,
          0.745426350289691,
          0.4472364027260554,
          0.3815347441100094,
          0.46091720240274214,
          0.32740154639337166,
          0.8538562948020315,
          0.5075787839694353,
          0.6975829464971885,
          0.6258311858360036,
          0.3640877532351679,
          0.8084112053664221,
          0.7551817715402839,
          0.7254448700163699,
          0.3735027636131299,
          0.37289165145711384,
          0.4365773946364369,
          0.4165513217154707,
          0.6195459030384207,
          0.7465627705036337,
          0.4409158659801428,
          0.5501112397187702,
          0.5275260390593784,
          0.6649895300638189,
          0.7530046309161663,
          0.39168816971366993,
          0.7231736412680253,
          0.6608593865902749,
          0.48577505440765284,
          0.18029274815830168,
          0.7400272961815435,
          0.5191957919528041,
          0.4788860855678043,
          0.8529559113011814,
          0.6910900943366933,
          0.46328451248633357,
          0.6092871502827236,
          0.3279769830127064,
          0.7049532973819379,
          0.3976377246720327,
          0.6260036887588062,
          0.4985126347703578,
          0.477053809337334,
          0.25372690776407913,
          0.36560820931234894,
          0.725269602177238,
          0.6485487811385621,
          0.681836301561647,
          0.5830593783426422,
          0.7301609246071809,
          0.4762418614895153,
          0.7371854000533473,
          0.8313736874326996,
          0.3433490043146066,
          0.2926230208287988,
          0.33317737578472456,
          0.5681541982166537,
          0.5105207165270215,
          0.9068499812525915,
          0.47161527065608533,
          0.5763251092295708,
          0.3115803472821623,
          0.7258421398512269,
          0.6779356119261705,
          0.48932374564837716,
          0.37125108646871136,
          0.42968695095809156,
          0.4053944214575693,
          0.7767222808966738,
          0.2471322080905409,
          0.5452224100112836,
          0.7202417551060241,
          0.4107190347331399,
          0.7024056599647343,
          0.164706323864375,
          0.305748480611343,
          0.3371299178279149,
          0.7424714345459685,
          0.5386163632574147,
          0.7649248284442092,
          0.43066678655340535,
          0.5604524531345806,
          0.3589329804179918,
          0.4297676234356639,
          0.3155533598893569,
          0.739164057708216,
          0.4013360317859772,
          0.3810639944792159,
          0.6574485313890744,
          0.5532651487746343,
          0.7436818699291089,
          0.6376315735296668,
          0.5709293363923353,
          0.5581867127252208,
          0.6093218901902646,
          0.5717474888939587,
          0.3022222309419036,
          0.43830147543410836,
          0.3724418110915349,
          0.2580516872590873,
          0.7902699617449865,
          0.47988855669434244,
          0.5898852121986672,
          0.700240747352142,
          0.3836113239822952,
          0.6895423879783293,
          0.7140924676292736,
          0.323509865432755,
          0.8366865534210116,
          0.20502705519208583,
          0.851775746760844,
          0.5298333382546676,
          0.68933002391163,
          0.479400640658863,
          0.6685025156700226,
          0.8708141154501688,
          0.45723222794044976,
          0.7915464533392709,
          0.5982727464953305,
          0.7037290171229278,
          0.761996388143744,
          0.39672330701278546,
          0.4647225293650631,
          0.3042160928860659,
          0.13676857638466677,
          0.5355476341625034,
          0.42620870117108545,
          0.6048551576184749,
          0.386036137832545,
          0.6145052384306703,
          0.7241479228019252,
          0.7591796370790121,
          0.4154221154515725,
          0.8226794926833979,
          0.2988710912144895,
          0.7016874853636264,
          0.5676050948965395,
          0.6797392689035805,
          0.6082108772209727,
          0.14990772755948775,
          0.5340343281486302,
          0.37346079795660386,
          0.4837086353936288,
          0.5201057544666068,
          0.6518703520622559,
          0.6169300561556895,
          0.7536691817652023,
          0.5851304752059409,
          0.5354339405086262,
          0.4079663255163834,
          0.6604618225852156,
          0.6354721553337946,
          0.3381818490161254,
          0.4617975482203384,
          0.7026900757920708,
          0.5994966816956776,
          0.340674548561884,
          0.6321334525988445,
          0.3007677778022309,
          0.297730126765923,
          0.6842730031967282,
          0.795001658044411,
          0.26451751634556725,
          0.4195022014338668,
          0.6825805031717642,
          0.37860466497156503,
          0.4818295968400568,
          0.40158984487521204,
          0.5709739498870703,
          0.5335027424094949,
          0.24550506844648357,
          0.5327823001210287,
          0.4965719680995949,
          0.5492086250942733,
          0.6620828636806698,
          0.5283609146502493,
          0.7892220735900342
         ],
         "yaxis": "y"
        }
       ],
       "layout": {
        "legend": {
         "title": {
          "text": "Tumor"
         },
         "tracegroupgap": 0
        },
        "template": {
         "data": {
          "bar": [
           {
            "error_x": {
             "color": "#2a3f5f"
            },
            "error_y": {
             "color": "#2a3f5f"
            },
            "marker": {
             "line": {
              "color": "#E5ECF6",
              "width": 0.5
             },
             "pattern": {
              "fillmode": "overlay",
              "size": 10,
              "solidity": 0.2
             }
            },
            "type": "bar"
           }
          ],
          "barpolar": [
           {
            "marker": {
             "line": {
              "color": "#E5ECF6",
              "width": 0.5
             },
             "pattern": {
              "fillmode": "overlay",
              "size": 10,
              "solidity": 0.2
             }
            },
            "type": "barpolar"
           }
          ],
          "carpet": [
           {
            "aaxis": {
             "endlinecolor": "#2a3f5f",
             "gridcolor": "white",
             "linecolor": "white",
             "minorgridcolor": "white",
             "startlinecolor": "#2a3f5f"
            },
            "baxis": {
             "endlinecolor": "#2a3f5f",
             "gridcolor": "white",
             "linecolor": "white",
             "minorgridcolor": "white",
             "startlinecolor": "#2a3f5f"
            },
            "type": "carpet"
           }
          ],
          "choropleth": [
           {
            "colorbar": {
             "outlinewidth": 0,
             "ticks": ""
            },
            "type": "choropleth"
           }
          ],
          "contour": [
           {
            "colorbar": {
             "outlinewidth": 0,
             "ticks": ""
            },
            "colorscale": [
             [
              0,
              "#0d0887"
             ],
             [
              0.1111111111111111,
              "#46039f"
             ],
             [
              0.2222222222222222,
              "#7201a8"
             ],
             [
              0.3333333333333333,
              "#9c179e"
             ],
             [
              0.4444444444444444,
              "#bd3786"
             ],
             [
              0.5555555555555556,
              "#d8576b"
             ],
             [
              0.6666666666666666,
              "#ed7953"
             ],
             [
              0.7777777777777778,
              "#fb9f3a"
             ],
             [
              0.8888888888888888,
              "#fdca26"
             ],
             [
              1,
              "#f0f921"
             ]
            ],
            "type": "contour"
           }
          ],
          "contourcarpet": [
           {
            "colorbar": {
             "outlinewidth": 0,
             "ticks": ""
            },
            "type": "contourcarpet"
           }
          ],
          "heatmap": [
           {
            "colorbar": {
             "outlinewidth": 0,
             "ticks": ""
            },
            "colorscale": [
             [
              0,
              "#0d0887"
             ],
             [
              0.1111111111111111,
              "#46039f"
             ],
             [
              0.2222222222222222,
              "#7201a8"
             ],
             [
              0.3333333333333333,
              "#9c179e"
             ],
             [
              0.4444444444444444,
              "#bd3786"
             ],
             [
              0.5555555555555556,
              "#d8576b"
             ],
             [
              0.6666666666666666,
              "#ed7953"
             ],
             [
              0.7777777777777778,
              "#fb9f3a"
             ],
             [
              0.8888888888888888,
              "#fdca26"
             ],
             [
              1,
              "#f0f921"
             ]
            ],
            "type": "heatmap"
           }
          ],
          "heatmapgl": [
           {
            "colorbar": {
             "outlinewidth": 0,
             "ticks": ""
            },
            "colorscale": [
             [
              0,
              "#0d0887"
             ],
             [
              0.1111111111111111,
              "#46039f"
             ],
             [
              0.2222222222222222,
              "#7201a8"
             ],
             [
              0.3333333333333333,
              "#9c179e"
             ],
             [
              0.4444444444444444,
              "#bd3786"
             ],
             [
              0.5555555555555556,
              "#d8576b"
             ],
             [
              0.6666666666666666,
              "#ed7953"
             ],
             [
              0.7777777777777778,
              "#fb9f3a"
             ],
             [
              0.8888888888888888,
              "#fdca26"
             ],
             [
              1,
              "#f0f921"
             ]
            ],
            "type": "heatmapgl"
           }
          ],
          "histogram": [
           {
            "marker": {
             "pattern": {
              "fillmode": "overlay",
              "size": 10,
              "solidity": 0.2
             }
            },
            "type": "histogram"
           }
          ],
          "histogram2d": [
           {
            "colorbar": {
             "outlinewidth": 0,
             "ticks": ""
            },
            "colorscale": [
             [
              0,
              "#0d0887"
             ],
             [
              0.1111111111111111,
              "#46039f"
             ],
             [
              0.2222222222222222,
              "#7201a8"
             ],
             [
              0.3333333333333333,
              "#9c179e"
             ],
             [
              0.4444444444444444,
              "#bd3786"
             ],
             [
              0.5555555555555556,
              "#d8576b"
             ],
             [
              0.6666666666666666,
              "#ed7953"
             ],
             [
              0.7777777777777778,
              "#fb9f3a"
             ],
             [
              0.8888888888888888,
              "#fdca26"
             ],
             [
              1,
              "#f0f921"
             ]
            ],
            "type": "histogram2d"
           }
          ],
          "histogram2dcontour": [
           {
            "colorbar": {
             "outlinewidth": 0,
             "ticks": ""
            },
            "colorscale": [
             [
              0,
              "#0d0887"
             ],
             [
              0.1111111111111111,
              "#46039f"
             ],
             [
              0.2222222222222222,
              "#7201a8"
             ],
             [
              0.3333333333333333,
              "#9c179e"
             ],
             [
              0.4444444444444444,
              "#bd3786"
             ],
             [
              0.5555555555555556,
              "#d8576b"
             ],
             [
              0.6666666666666666,
              "#ed7953"
             ],
             [
              0.7777777777777778,
              "#fb9f3a"
             ],
             [
              0.8888888888888888,
              "#fdca26"
             ],
             [
              1,
              "#f0f921"
             ]
            ],
            "type": "histogram2dcontour"
           }
          ],
          "mesh3d": [
           {
            "colorbar": {
             "outlinewidth": 0,
             "ticks": ""
            },
            "type": "mesh3d"
           }
          ],
          "parcoords": [
           {
            "line": {
             "colorbar": {
              "outlinewidth": 0,
              "ticks": ""
             }
            },
            "type": "parcoords"
           }
          ],
          "pie": [
           {
            "automargin": true,
            "type": "pie"
           }
          ],
          "scatter": [
           {
            "fillpattern": {
             "fillmode": "overlay",
             "size": 10,
             "solidity": 0.2
            },
            "type": "scatter"
           }
          ],
          "scatter3d": [
           {
            "line": {
             "colorbar": {
              "outlinewidth": 0,
              "ticks": ""
             }
            },
            "marker": {
             "colorbar": {
              "outlinewidth": 0,
              "ticks": ""
             }
            },
            "type": "scatter3d"
           }
          ],
          "scattercarpet": [
           {
            "marker": {
             "colorbar": {
              "outlinewidth": 0,
              "ticks": ""
             }
            },
            "type": "scattercarpet"
           }
          ],
          "scattergeo": [
           {
            "marker": {
             "colorbar": {
              "outlinewidth": 0,
              "ticks": ""
             }
            },
            "type": "scattergeo"
           }
          ],
          "scattergl": [
           {
            "marker": {
             "colorbar": {
              "outlinewidth": 0,
              "ticks": ""
             }
            },
            "type": "scattergl"
           }
          ],
          "scattermapbox": [
           {
            "marker": {
             "colorbar": {
              "outlinewidth": 0,
              "ticks": ""
             }
            },
            "type": "scattermapbox"
           }
          ],
          "scatterpolar": [
           {
            "marker": {
             "colorbar": {
              "outlinewidth": 0,
              "ticks": ""
             }
            },
            "type": "scatterpolar"
           }
          ],
          "scatterpolargl": [
           {
            "marker": {
             "colorbar": {
              "outlinewidth": 0,
              "ticks": ""
             }
            },
            "type": "scatterpolargl"
           }
          ],
          "scatterternary": [
           {
            "marker": {
             "colorbar": {
              "outlinewidth": 0,
              "ticks": ""
             }
            },
            "type": "scatterternary"
           }
          ],
          "surface": [
           {
            "colorbar": {
             "outlinewidth": 0,
             "ticks": ""
            },
            "colorscale": [
             [
              0,
              "#0d0887"
             ],
             [
              0.1111111111111111,
              "#46039f"
             ],
             [
              0.2222222222222222,
              "#7201a8"
             ],
             [
              0.3333333333333333,
              "#9c179e"
             ],
             [
              0.4444444444444444,
              "#bd3786"
             ],
             [
              0.5555555555555556,
              "#d8576b"
             ],
             [
              0.6666666666666666,
              "#ed7953"
             ],
             [
              0.7777777777777778,
              "#fb9f3a"
             ],
             [
              0.8888888888888888,
              "#fdca26"
             ],
             [
              1,
              "#f0f921"
             ]
            ],
            "type": "surface"
           }
          ],
          "table": [
           {
            "cells": {
             "fill": {
              "color": "#EBF0F8"
             },
             "line": {
              "color": "white"
             }
            },
            "header": {
             "fill": {
              "color": "#C8D4E3"
             },
             "line": {
              "color": "white"
             }
            },
            "type": "table"
           }
          ]
         },
         "layout": {
          "annotationdefaults": {
           "arrowcolor": "#2a3f5f",
           "arrowhead": 0,
           "arrowwidth": 1
          },
          "autotypenumbers": "strict",
          "coloraxis": {
           "colorbar": {
            "outlinewidth": 0,
            "ticks": ""
           }
          },
          "colorscale": {
           "diverging": [
            [
             0,
             "#8e0152"
            ],
            [
             0.1,
             "#c51b7d"
            ],
            [
             0.2,
             "#de77ae"
            ],
            [
             0.3,
             "#f1b6da"
            ],
            [
             0.4,
             "#fde0ef"
            ],
            [
             0.5,
             "#f7f7f7"
            ],
            [
             0.6,
             "#e6f5d0"
            ],
            [
             0.7,
             "#b8e186"
            ],
            [
             0.8,
             "#7fbc41"
            ],
            [
             0.9,
             "#4d9221"
            ],
            [
             1,
             "#276419"
            ]
           ],
           "sequential": [
            [
             0,
             "#0d0887"
            ],
            [
             0.1111111111111111,
             "#46039f"
            ],
            [
             0.2222222222222222,
             "#7201a8"
            ],
            [
             0.3333333333333333,
             "#9c179e"
            ],
            [
             0.4444444444444444,
             "#bd3786"
            ],
            [
             0.5555555555555556,
             "#d8576b"
            ],
            [
             0.6666666666666666,
             "#ed7953"
            ],
            [
             0.7777777777777778,
             "#fb9f3a"
            ],
            [
             0.8888888888888888,
             "#fdca26"
            ],
            [
             1,
             "#f0f921"
            ]
           ],
           "sequentialminus": [
            [
             0,
             "#0d0887"
            ],
            [
             0.1111111111111111,
             "#46039f"
            ],
            [
             0.2222222222222222,
             "#7201a8"
            ],
            [
             0.3333333333333333,
             "#9c179e"
            ],
            [
             0.4444444444444444,
             "#bd3786"
            ],
            [
             0.5555555555555556,
             "#d8576b"
            ],
            [
             0.6666666666666666,
             "#ed7953"
            ],
            [
             0.7777777777777778,
             "#fb9f3a"
            ],
            [
             0.8888888888888888,
             "#fdca26"
            ],
            [
             1,
             "#f0f921"
            ]
           ]
          },
          "colorway": [
           "#636efa",
           "#EF553B",
           "#00cc96",
           "#ab63fa",
           "#FFA15A",
           "#19d3f3",
           "#FF6692",
           "#B6E880",
           "#FF97FF",
           "#FECB52"
          ],
          "font": {
           "color": "#2a3f5f"
          },
          "geo": {
           "bgcolor": "white",
           "lakecolor": "white",
           "landcolor": "#E5ECF6",
           "showlakes": true,
           "showland": true,
           "subunitcolor": "white"
          },
          "hoverlabel": {
           "align": "left"
          },
          "hovermode": "closest",
          "mapbox": {
           "style": "light"
          },
          "paper_bgcolor": "white",
          "plot_bgcolor": "#E5ECF6",
          "polar": {
           "angularaxis": {
            "gridcolor": "white",
            "linecolor": "white",
            "ticks": ""
           },
           "bgcolor": "#E5ECF6",
           "radialaxis": {
            "gridcolor": "white",
            "linecolor": "white",
            "ticks": ""
           }
          },
          "scene": {
           "xaxis": {
            "backgroundcolor": "#E5ECF6",
            "gridcolor": "white",
            "gridwidth": 2,
            "linecolor": "white",
            "showbackground": true,
            "ticks": "",
            "zerolinecolor": "white"
           },
           "yaxis": {
            "backgroundcolor": "#E5ECF6",
            "gridcolor": "white",
            "gridwidth": 2,
            "linecolor": "white",
            "showbackground": true,
            "ticks": "",
            "zerolinecolor": "white"
           },
           "zaxis": {
            "backgroundcolor": "#E5ECF6",
            "gridcolor": "white",
            "gridwidth": 2,
            "linecolor": "white",
            "showbackground": true,
            "ticks": "",
            "zerolinecolor": "white"
           }
          },
          "shapedefaults": {
           "line": {
            "color": "#2a3f5f"
           }
          },
          "ternary": {
           "aaxis": {
            "gridcolor": "white",
            "linecolor": "white",
            "ticks": ""
           },
           "baxis": {
            "gridcolor": "white",
            "linecolor": "white",
            "ticks": ""
           },
           "bgcolor": "#E5ECF6",
           "caxis": {
            "gridcolor": "white",
            "linecolor": "white",
            "ticks": ""
           }
          },
          "title": {
           "x": 0.05
          },
          "xaxis": {
           "automargin": true,
           "gridcolor": "white",
           "linecolor": "white",
           "ticks": "",
           "title": {
            "standoff": 15
           },
           "zerolinecolor": "white",
           "zerolinewidth": 2
          },
          "yaxis": {
           "automargin": true,
           "gridcolor": "white",
           "linecolor": "white",
           "ticks": "",
           "title": {
            "standoff": 15
           },
           "zerolinecolor": "white",
           "zerolinewidth": 2
          }
         }
        },
        "title": {
         "text": "Promedio CpG seleccionados vs Edad para gen WT1"
        },
        "xaxis": {
         "anchor": "y",
         "domain": [
          0,
          1
         ],
         "title": {
          "text": "Edad"
         }
        },
        "yaxis": {
         "anchor": "x",
         "domain": [
          0,
          1
         ],
         "title": {
          "text": "Promedio de CpG"
         }
        }
       }
      }
     },
     "metadata": {},
     "output_type": "display_data"
    }
   ],
   "source": [
    "plot_mean_age(df_wt1, 'WT1')"
   ]
  },
  {
   "attachments": {},
   "cell_type": "markdown",
   "metadata": {},
   "source": [
    "#### GATA4"
   ]
  },
  {
   "cell_type": "code",
   "execution_count": 76,
   "metadata": {},
   "outputs": [
    {
     "data": {
      "image/png": "[encoded data removed]",
      "text/plain": [
       "<Figure size 1200x600 with 2 Axes>"
      ]
     },
     "metadata": {},
     "output_type": "display_data"
    }
   ],
   "source": [
    "df_gata4 = top_3_df[1].sort_values(by='tumor')\n",
    "heatmap_gene(df_gata4, 'GATA4')"
   ]
  },
  {
   "cell_type": "code",
   "execution_count": 77,
   "metadata": {},
   "outputs": [
    {
     "data": {
      "application/vnd.plotly.v1+json": {
       "config": {
        "plotlyServerURL": "https://plot.ly"
       },
       "data": [
        {
         "hovertemplate": "Tumor=No tumor<br>Edad=%{x}<br>Promedio de CpG=%{y}<extra></extra>",
         "legendgroup": "No tumor",
         "marker": {
          "color": "#636efa",
          "symbol": "circle"
         },
         "mode": "markers",
         "name": "No tumor",
         "orientation": "v",
         "showlegend": true,
         "type": "scatter",
         "x": [
          79.32648870636551,
          55.17316906228611,
          69.15537303216975,
          54.30800821355236,
          65.00205338809035,
          61.74948665297741,
          52.83504449007529,
          62.86652977412731,
          63.00068446269678,
          37.11430527036276,
          69.43737166324435,
          52.668035592060235,
          64.68993839835728,
          83.75085557837097,
          57.3305954825462,
          47.841204654346335,
          78.57357973990418,
          42.997946611909654,
          80.91718001368925,
          40.982888432580424,
          68.33675564681725,
          40.77754962354552,
          43.540041067761805,
          82.67214236824093,
          57.002053388090346,
          62.58179329226557,
          41.281314168377826
         ],
         "xaxis": "x",
         "y": [
          0.20822552221613683,
          0.18551370263343042,
          0.22891313728010237,
          0.1888346207625304,
          0.1633453084285411,
          0.17509805393815636,
          0.1817360964750101,
          0.15298891876503695,
          0.18753568421095135,
          0.22262898648406704,
          0.17504234218313622,
          0.19246070572893995,
          0.19447033566955424,
          0.20164730244292745,
          0.1806087379179312,
          0.19938105302284861,
          0.18837825917635012,
          0.1792783988566905,
          0.17592069725893292,
          0.16759259031669277,
          0.17890647727928866,
          0.21195253713747284,
          0.17428460663065248,
          0.1886703747490534,
          0.18535235210987755,
          0.23388205902135561,
          0.2083843183141649
         ],
         "yaxis": "y"
        },
        {
         "hovertemplate": "Tumor=Tumor<br>Edad=%{x}<br>Promedio de CpG=%{y}<extra></extra>",
         "legendgroup": "Tumor",
         "marker": {
          "color": "#EF553B",
          "symbol": "circle"
         },
         "mode": "markers",
         "name": "Tumor",
         "orientation": "v",
         "showlegend": true,
         "type": "scatter",
         "x": [
          57.50034223134839,
          51.32922655715264,
          50.2258726899384,
          54.247775496235455,
          59.2498288843258,
          79.71252566735113,
          50.71594798083505,
          71.95345653661876,
          57.30321697467488,
          55.70704996577687,
          80.83504449007529,
          66.1327857631759,
          45.7741273100616,
          65.37440109514031,
          54.21492128678987,
          89.99863107460644,
          79.41409993155374,
          80.17796030116358,
          48.41067761806981,
          80.41067761806981,
          67.60301163586584,
          42.54620123203286,
          35.15674195756331,
          56.31759069130732,
          45.26488706365503,
          62.171115674195754,
          80.16427104722793,
          61.2539356605065,
          73.43737166324435,
          45.489390828199866,
          62.17659137577002,
          57.11430527036276,
          50.70225872689939,
          53.08418891170431,
          73.49760438056126,
          49.385352498288846,
          34.61190965092403,
          46.06160164271047,
          78.66666666666667,
          34.691307323750856,
          72.3504449007529,
          66.34360027378509,
          48.35044490075291,
          51.31006160164271,
          48.77481177275838,
          58.666666666666664,
          77.58521560574948,
          71.1129363449692,
          76.88980150581793,
          56.88158795345654,
          71.1129363449692,
          53.15537303216975,
          41.30047912388775,
          50.70225872689939,
          61.01026694045174,
          50.6694045174538,
          45.19644079397673,
          58.8062970568104,
          60.596851471594796,
          46.92950034223135,
          45.7741273100616,
          58.12457221081451,
          52.33127994524298,
          64.53114305270363,
          37.79603011635866,
          88.7173169062286,
          73.08145106091717,
          83.58110882956879,
          69.75222450376455,
          45.72758384668035,
          73.91649555099247,
          51.00068446269678,
          71.16769336071184,
          47.29637234770705,
          52.610540725530456,
          74.77891854893909,
          67.75085557837097,
          78.29158110882958,
          85.83436002737851,
          43.186858316221766,
          69.41820670773443,
          81.88090349075975,
          55.70431211498973,
          56.68720054757016,
          52.33949349760438,
          62.168377823408626,
          66.83367556468173,
          65.50581793292265,
          88.87611225188228,
          79.32648870636551,
          64.83778234086242,
          70.25051334702259,
          53.35797399041752,
          36.24366872005476,
          68.47364818617385,
          66.33812457221082,
          64.73921971252567,
          64.99931553730322,
          79.75633127994524,
          48.92813141683778,
          63.148528405201915,
          76.5968514715948,
          46.06160164271047,
          59.19780971937029,
          78.47775496235455,
          50.71594798083505,
          63.775496235455165,
          60.662559890485966,
          66.43668720054757,
          66.91854893908283,
          67.129363449692,
          69.25119780971937,
          47.6933607118412,
          61.497604380561256,
          62.450376454483234,
          56.60506502395619,
          62.620123203285424,
          52.865160848733744,
          47.748117727583846,
          46.614647501711154,
          64.50376454483231,
          54.001368925393564,
          61.667351129363446,
          58.76522929500342,
          58.4476386036961,
          68.03559206023272,
          56.95824777549623,
          42.691307323750856,
          69.74674880219028,
          52.747433264887064,
          58.6611909650924,
          84.08213552361396,
          69.56331279945243,
          59.49623545516769,
          56.04654346338125,
          54.119096509240244,
          55.72073921971253,
          64.68993839835728,
          84.82956878850102,
          39.68240930869268,
          73.88911704312115,
          51.676933607118414,
          49.319644079397676,
          43.75085557837098,
          70.66666666666667,
          68.8788501026694,
          37.45379876796714,
          69.85626283367556,
          56.1368925393566,
          63.79192334017796,
          41.8590006844627,
          65.49486652977413,
          50.46680355920602,
          66.59000684462697,
          74.36824093086926,
          42.77891854893908,
          35.15674195756331,
          51.676933607118414,
          75.91786447638604,
          56.60506502395619,
          74.05065023956195,
          63.59753593429158,
          56.709103353867214,
          65.75496235455168,
          62.69678302532512,
          45.83709787816564,
          51.97535934291581,
          41.281314168377826,
          63.419575633128,
          62.02874743326489,
          76.50102669404518,
          68.25188227241615,
          67.65229295003422,
          75.44695414099931,
          55.66598220396988,
          51.663244353182755,
          89.66461327857631,
          65.28405201916496,
          58.42026009582478,
          60.84052019164955,
          47.15674195756331,
          36.87063655030801,
          61.95482546201232,
          63.0280629705681,
          64.77754962354551,
          76.43258042436688,
          56.72553045859001,
          62.157426420260094,
          45.51129363449692,
          62.417522245037645,
          58.666666666666664,
          55.044490075290895,
          60.54757015742642,
          73.16358658453115,
          51.860369609856264,
          45.82067077344285,
          62.417522245037645,
          53.478439425051334,
          41.95482546201232,
          72.3504449007529,
          79.18685831622176,
          39.68240930869268,
          38.280629705681044,
          61.26488706365503,
          78.10814510609171,
          35.60301163586585,
          50.90759753593429,
          52.878850102669404,
          54.42847364818618,
          48.13141683778234,
          49.270362765229294,
          72.68446269678303,
          50.90759753593429,
          41.8507871321013,
          53.14989733059548,
          43.540041067761805,
          39.7864476386037,
          48.41067761806981,
          59.66598220396988,
          41.002053388090346,
          29.60164271047228,
          62.666666666666664,
          48.75290896646133,
          50.98151950718686,
          51.611225188227245,
          89.20739219712526,
          74.99794661190965,
          48.48733744010951,
          66.49691991786447,
          45.8590006844627,
          66.74880219028063,
          52.45722108145106,
          81.64271047227926,
          79.68240930869267,
          39.01437371663244,
          76.21355236139631,
          66.3709787816564,
          42.691307323750856,
          56.61327857631759,
          70.29158110882958,
          40.16153319644079,
          65.85626283367556,
          57.53319644079398,
          88.7173169062286,
          34.85010266940452,
          68.74743326488706,
          61.828884325804246,
          51.99452429842574,
          40.747433264887064,
          70.08350444900753,
          41.84531143052703,
          44.837782340862425,
          51.35934291581109,
          65.28405201916496,
          68.4435318275154,
          59.98631074606434,
          61.99041752224504,
          64.79671457905545,
          73.42094455852155,
          57.11978097193703,
          60.84052019164955,
          66.08350444900753,
          39.7864476386037,
          67.1895961670089,
          40.04380561259411,
          38.288843258042434,
          52.09582477754962,
          78.10814510609171,
          61.38809034907597,
          52.435318275154,
          62.51334702258727,
          35.49623545516769,
          80.0848733744011,
          76.66803559206024,
          82.04243668720055,
          32.65982203969884,
          69.16632443531827,
          81.58795345653662,
          46.743326488706366,
          81.74674880219028,
          46.15468856947297,
          71.20328542094455,
          53.779603011635864,
          35.60301163586585,
          74.25325119780972,
          45.73579739904175,
          75.16769336071184,
          52.04654346338125,
          41.210130047912386,
          66.43668720054757,
          62.110882956878854,
          58.91854893908282,
          84.16700889801506,
          49.66461327857632,
          76.69541409993155,
          89.91649555099247,
          54.902121834360024,
          76.83230663928816,
          64.45722108145107,
          73.16632443531827,
          56.61327857631759,
          42.502395619438744,
          54.119096509240244,
          36.71184120465435,
          70.24777549623545,
          65.65366187542779,
          62.43668720054757,
          50.666666666666664,
          62.02874743326489,
          80.66529774127311,
          36.8104038329911,
          46.666666666666664
         ],
         "xaxis": "x",
         "y": [
          0.462436896833425,
          0.30534014900668116,
          0.3187189763793804,
          0.34371154910315155,
          0.32508519994520363,
          0.101736936192616,
          0.42422989423784857,
          0.339227328221503,
          0.2580733394248642,
          0.31914406848594284,
          0.5674829322045072,
          0.3289452570402138,
          0.7562806192411138,
          0.3880559113148105,
          0.20850879905911957,
          0.3812455372587045,
          0.30058766036752005,
          0.4217063663000893,
          0.28004255527809996,
          0.22294579506546858,
          0.39773077341280616,
          0.41057839748722,
          0.1922102517442834,
          0.550343317762108,
          0.3007656153706338,
          0.45352137000567466,
          0.591781118868481,
          0.4464982670405581,
          0.5316937547135908,
          0.7375549049879125,
          0.2630174394968737,
          0.5316938114938552,
          0.49940948842991406,
          0.5186136858155795,
          0.5643351090152221,
          0.38586438291184216,
          0.5666780785017209,
          0.4591433522338842,
          0.4132303957116508,
          0.16819555176892992,
          0.2929644915312413,
          0.5469390982475717,
          0.6805444087440653,
          0.6052924469015522,
          0.4250432090885908,
          0.3516538250884029,
          0.5022390483137691,
          0.19322813623186366,
          0.30386207827335976,
          0.4769695817655818,
          0.2545814968531083,
          0.37186137624737786,
          0.5749800570055924,
          0.44815190526509563,
          0.3232307637152303,
          0.4445292826801637,
          0.40764166465804,
          0.3941341022738888,
          0.4020721795493628,
          0.4610581257627061,
          0.32626449156765436,
          0.2967250002647648,
          0.4170884923462585,
          0.3166138532138226,
          0.5141263425931191,
          0.1953973878945461,
          0.5329824641357553,
          0.21097362797551517,
          0.34774564171591227,
          0.19354759198018637,
          0.32478840829506633,
          0.5910349906020126,
          0.5778853420873967,
          0.5708874613399074,
          0.4097612741198743,
          0.5127704028461151,
          0.19954110895313998,
          0.3869738559909335,
          0.4520604877514633,
          0.3448858134005416,
          0.5856243331407694,
          0.5415461868907433,
          0.3391346815263357,
          0.3556286973468377,
          0.43126144022439017,
          0.7072946066073325,
          0.39466995045661607,
          0.5639062681958232,
          0.3960354488594232,
          0.37581984123179074,
          0.3879483500292652,
          0.2593846845252876,
          0.49919384832347274,
          0.4648129493041721,
          0.40727997669601074,
          0.6556803734839047,
          0.5457788931306958,
          0.26508919396674996,
          0.43220194232134607,
          0.7226365923153838,
          0.5343053888836452,
          0.7169008567124665,
          0.19519481804591873,
          0.546041317361719,
          0.41536961010733947,
          0.5947300194963707,
          0.41410668812225004,
          0.48692339213974456,
          0.2149515074181141,
          0.3364502182020015,
          0.6220741697301398,
          0.7323639729380486,
          0.4644779857985857,
          0.3009186355056489,
          0.46952051197082806,
          0.45354700015849825,
          0.4469487791619694,
          0.6088293521888183,
          0.323782465457782,
          0.6294285400348623,
          0.30826975537742307,
          0.5631974443307468,
          0.5670162542107204,
          0.3459094848275181,
          0.44735676462577534,
          0.29274781229568414,
          0.1557759024453594,
          0.3641595982747266,
          0.3440158249757278,
          0.32447340850456324,
          0.5316298008500986,
          0.3879649483828602,
          0.3000944717652071,
          0.3491000698144315,
          0.22033756359927442,
          0.5854998863525209,
          0.4938432090650599,
          0.3323475385517467,
          0.44711621937320695,
          0.44651164589953346,
          0.5559909571062647,
          0.5893175331044913,
          0.41452031727631916,
          0.3924877162451867,
          0.28487751020418417,
          0.26091067710938,
          0.7192947614923504,
          0.6026104326187496,
          0.5974992173620144,
          0.36523630927978407,
          0.2617058355569765,
          0.40146452980705943,
          0.35858265822620033,
          0.44519115797961634,
          0.349774181213769,
          0.4166812418029119,
          0.4138358458427066,
          0.5149023402060249,
          0.27502223054456326,
          0.42982165374442416,
          0.2802360879901632,
          0.2866789943802275,
          0.3599326715885978,
          0.374844537091151,
          0.2999925911067726,
          0.2806039410959669,
          0.4862825633120489,
          0.2773769174404718,
          0.7565766838694401,
          0.6134740887139537,
          0.26839032054080797,
          0.3197822876938885,
          0.2501164706537212,
          0.5704982358532453,
          0.25726608083108027,
          0.39336696638657664,
          0.378803837471465,
          0.37003278704675835,
          0.24639184311553833,
          0.30625989076778676,
          0.768145708515564,
          0.5362154628522618,
          0.39509625378368135,
          0.5022360087390364,
          0.529215341214728,
          0.3688303234701355,
          0.6007533011128676,
          0.691625591329424,
          0.26030986067829687,
          0.21027278938434046,
          0.30573571333993355,
          0.42980048411180427,
          0.5267895456680164,
          0.6970372768696738,
          0.37011274513398534,
          0.5112968636654096,
          0.3935010369341195,
          0.37772657794844855,
          0.36363883708373934,
          0.2684248902848516,
          0.31848840304874193,
          0.3992279181023722,
          0.2895993949998237,
          0.5630004912234605,
          0.31397211307438067,
          0.3409217151957629,
          0.20673514684971506,
          0.2514921947308059,
          0.6867010893159524,
          0.5542818726539124,
          0.23862320812189172,
          0.34146102040853166,
          0.4320368470540519,
          0.3495912787877552,
          0.4417710048429443,
          0.3617921603374076,
          0.2344297807931575,
          0.5883876202101108,
          0.294593767634708,
          0.2879454076478363,
          0.5094983435679477,
          0.34264894713404814,
          0.2803805203989887,
          0.6599362161300794,
          0.5246602156068417,
          0.5746078941030371,
          0.4193429361380722,
          0.4490690358761814,
          0.4093524105950689,
          0.5342202905297408,
          0.3514526937611686,
          0.7179801490231296,
          0.5862122977193933,
          0.3961992315568717,
          0.428062787542237,
          0.5371981996070538,
          0.23088515772062881,
          0.4455383379016815,
          0.6652476446746399,
          0.1801598933941255,
          0.5516573590128897,
          0.5776961539213556,
          0.2728841277965153,
          0.7850629503555459,
          0.21127036991879672,
          0.7493282098390928,
          0.49774926388566926,
          0.4539501208563461,
          0.4377270520248836,
          0.4744223890734717,
          0.829932217242499,
          0.22260982158766793,
          0.6099413917410506,
          0.5244910016689142,
          0.6206362373098041,
          0.5492960776595034,
          0.3681306696605366,
          0.23688973172611233,
          0.3659099060525447,
          0.1252516596542139,
          0.24230302663202086,
          0.278894325712678,
          0.30610097139500847,
          0.3588323535752149,
          0.4974750435304895,
          0.7149340770641991,
          0.33007638666752126,
          0.47865042850964545,
          0.6278866106247724,
          0.2912201352085634,
          0.5368972025206944,
          0.50872625514666,
          0.5006961105692814,
          0.22820512137271248,
          0.38661262958655457,
          0.4209165578858837,
          0.39996917055770537,
          0.335516784137203,
          0.28646188581244186,
          0.5030960571475481,
          0.43070710980606575,
          0.7161385601042303,
          0.432912524555346,
          0.3446847070820549,
          0.20208036764722787,
          0.6188091189262419,
          0.5728070848969234,
          0.2096819155447004,
          0.3592655541742845,
          0.31130583688557356,
          0.5285545580837027,
          0.28943093888955,
          0.38862423885653646,
          0.6033068700540082,
          0.25050193512240687,
          0.5863419458176001,
          0.49393277817693415,
          0.12351449703897413,
          0.25694996316199775,
          0.5651483175834436,
          0.2795305606965057,
          0.3105790930396608,
          0.21466003407652862,
          0.5522456080191578,
          0.4109960966403451,
          0.46847938194687,
          0.2986358467640123,
          0.37005974932467767,
          0.285122633380975,
          0.5049791670933325,
          0.3565634144150404,
          0.6912026559449175
         ],
         "yaxis": "y"
        }
       ],
       "layout": {
        "legend": {
         "title": {
          "text": "Tumor"
         },
         "tracegroupgap": 0
        },
        "template": {
         "data": {
          "bar": [
           {
            "error_x": {
             "color": "#2a3f5f"
            },
            "error_y": {
             "color": "#2a3f5f"
            },
            "marker": {
             "line": {
              "color": "#E5ECF6",
              "width": 0.5
             },
             "pattern": {
              "fillmode": "overlay",
              "size": 10,
              "solidity": 0.2
             }
            },
            "type": "bar"
           }
          ],
          "barpolar": [
           {
            "marker": {
             "line": {
              "color": "#E5ECF6",
              "width": 0.5
             },
             "pattern": {
              "fillmode": "overlay",
              "size": 10,
              "solidity": 0.2
             }
            },
            "type": "barpolar"
           }
          ],
          "carpet": [
           {
            "aaxis": {
             "endlinecolor": "#2a3f5f",
             "gridcolor": "white",
             "linecolor": "white",
             "minorgridcolor": "white",
             "startlinecolor": "#2a3f5f"
            },
            "baxis": {
             "endlinecolor": "#2a3f5f",
             "gridcolor": "white",
             "linecolor": "white",
             "minorgridcolor": "white",
             "startlinecolor": "#2a3f5f"
            },
            "type": "carpet"
           }
          ],
          "choropleth": [
           {
            "colorbar": {
             "outlinewidth": 0,
             "ticks": ""
            },
            "type": "choropleth"
           }
          ],
          "contour": [
           {
            "colorbar": {
             "outlinewidth": 0,
             "ticks": ""
            },
            "colorscale": [
             [
              0,
              "#0d0887"
             ],
             [
              0.1111111111111111,
              "#46039f"
             ],
             [
              0.2222222222222222,
              "#7201a8"
             ],
             [
              0.3333333333333333,
              "#9c179e"
             ],
             [
              0.4444444444444444,
              "#bd3786"
             ],
             [
              0.5555555555555556,
              "#d8576b"
             ],
             [
              0.6666666666666666,
              "#ed7953"
             ],
             [
              0.7777777777777778,
              "#fb9f3a"
             ],
             [
              0.8888888888888888,
              "#fdca26"
             ],
             [
              1,
              "#f0f921"
             ]
            ],
            "type": "contour"
           }
          ],
          "contourcarpet": [
           {
            "colorbar": {
             "outlinewidth": 0,
             "ticks": ""
            },
            "type": "contourcarpet"
           }
          ],
          "heatmap": [
           {
            "colorbar": {
             "outlinewidth": 0,
             "ticks": ""
            },
            "colorscale": [
             [
              0,
              "#0d0887"
             ],
             [
              0.1111111111111111,
              "#46039f"
             ],
             [
              0.2222222222222222,
              "#7201a8"
             ],
             [
              0.3333333333333333,
              "#9c179e"
             ],
             [
              0.4444444444444444,
              "#bd3786"
             ],
             [
              0.5555555555555556,
              "#d8576b"
             ],
             [
              0.6666666666666666,
              "#ed7953"
             ],
             [
              0.7777777777777778,
              "#fb9f3a"
             ],
             [
              0.8888888888888888,
              "#fdca26"
             ],
             [
              1,
              "#f0f921"
             ]
            ],
            "type": "heatmap"
           }
          ],
          "heatmapgl": [
           {
            "colorbar": {
             "outlinewidth": 0,
             "ticks": ""
            },
            "colorscale": [
             [
              0,
              "#0d0887"
             ],
             [
              0.1111111111111111,
              "#46039f"
             ],
             [
              0.2222222222222222,
              "#7201a8"
             ],
             [
              0.3333333333333333,
              "#9c179e"
             ],
             [
              0.4444444444444444,
              "#bd3786"
             ],
             [
              0.5555555555555556,
              "#d8576b"
             ],
             [
              0.6666666666666666,
              "#ed7953"
             ],
             [
              0.7777777777777778,
              "#fb9f3a"
             ],
             [
              0.8888888888888888,
              "#fdca26"
             ],
             [
              1,
              "#f0f921"
             ]
            ],
            "type": "heatmapgl"
           }
          ],
          "histogram": [
           {
            "marker": {
             "pattern": {
              "fillmode": "overlay",
              "size": 10,
              "solidity": 0.2
             }
            },
            "type": "histogram"
           }
          ],
          "histogram2d": [
           {
            "colorbar": {
             "outlinewidth": 0,
             "ticks": ""
            },
            "colorscale": [
             [
              0,
              "#0d0887"
             ],
             [
              0.1111111111111111,
              "#46039f"
             ],
             [
              0.2222222222222222,
              "#7201a8"
             ],
             [
              0.3333333333333333,
              "#9c179e"
             ],
             [
              0.4444444444444444,
              "#bd3786"
             ],
             [
              0.5555555555555556,
              "#d8576b"
             ],
             [
              0.6666666666666666,
              "#ed7953"
             ],
             [
              0.7777777777777778,
              "#fb9f3a"
             ],
             [
              0.8888888888888888,
              "#fdca26"
             ],
             [
              1,
              "#f0f921"
             ]
            ],
            "type": "histogram2d"
           }
          ],
          "histogram2dcontour": [
           {
            "colorbar": {
             "outlinewidth": 0,
             "ticks": ""
            },
            "colorscale": [
             [
              0,
              "#0d0887"
             ],
             [
              0.1111111111111111,
              "#46039f"
             ],
             [
              0.2222222222222222,
              "#7201a8"
             ],
             [
              0.3333333333333333,
              "#9c179e"
             ],
             [
              0.4444444444444444,
              "#bd3786"
             ],
             [
              0.5555555555555556,
              "#d8576b"
             ],
             [
              0.6666666666666666,
              "#ed7953"
             ],
             [
              0.7777777777777778,
              "#fb9f3a"
             ],
             [
              0.8888888888888888,
              "#fdca26"
             ],
             [
              1,
              "#f0f921"
             ]
            ],
            "type": "histogram2dcontour"
           }
          ],
          "mesh3d": [
           {
            "colorbar": {
             "outlinewidth": 0,
             "ticks": ""
            },
            "type": "mesh3d"
           }
          ],
          "parcoords": [
           {
            "line": {
             "colorbar": {
              "outlinewidth": 0,
              "ticks": ""
             }
            },
            "type": "parcoords"
           }
          ],
          "pie": [
           {
            "automargin": true,
            "type": "pie"
           }
          ],
          "scatter": [
           {
            "fillpattern": {
             "fillmode": "overlay",
             "size": 10,
             "solidity": 0.2
            },
            "type": "scatter"
           }
          ],
          "scatter3d": [
           {
            "line": {
             "colorbar": {
              "outlinewidth": 0,
              "ticks": ""
             }
            },
            "marker": {
             "colorbar": {
              "outlinewidth": 0,
              "ticks": ""
             }
            },
            "type": "scatter3d"
           }
          ],
          "scattercarpet": [
           {
            "marker": {
             "colorbar": {
              "outlinewidth": 0,
              "ticks": ""
             }
            },
            "type": "scattercarpet"
           }
          ],
          "scattergeo": [
           {
            "marker": {
             "colorbar": {
              "outlinewidth": 0,
              "ticks": ""
             }
            },
            "type": "scattergeo"
           }
          ],
          "scattergl": [
           {
            "marker": {
             "colorbar": {
              "outlinewidth": 0,
              "ticks": ""
             }
            },
            "type": "scattergl"
           }
          ],
          "scattermapbox": [
           {
            "marker": {
             "colorbar": {
              "outlinewidth": 0,
              "ticks": ""
             }
            },
            "type": "scattermapbox"
           }
          ],
          "scatterpolar": [
           {
            "marker": {
             "colorbar": {
              "outlinewidth": 0,
              "ticks": ""
             }
            },
            "type": "scatterpolar"
           }
          ],
          "scatterpolargl": [
           {
            "marker": {
             "colorbar": {
              "outlinewidth": 0,
              "ticks": ""
             }
            },
            "type": "scatterpolargl"
           }
          ],
          "scatterternary": [
           {
            "marker": {
             "colorbar": {
              "outlinewidth": 0,
              "ticks": ""
             }
            },
            "type": "scatterternary"
           }
          ],
          "surface": [
           {
            "colorbar": {
             "outlinewidth": 0,
             "ticks": ""
            },
            "colorscale": [
             [
              0,
              "#0d0887"
             ],
             [
              0.1111111111111111,
              "#46039f"
             ],
             [
              0.2222222222222222,
              "#7201a8"
             ],
             [
              0.3333333333333333,
              "#9c179e"
             ],
             [
              0.4444444444444444,
              "#bd3786"
             ],
             [
              0.5555555555555556,
              "#d8576b"
             ],
             [
              0.6666666666666666,
              "#ed7953"
             ],
             [
              0.7777777777777778,
              "#fb9f3a"
             ],
             [
              0.8888888888888888,
              "#fdca26"
             ],
             [
              1,
              "#f0f921"
             ]
            ],
            "type": "surface"
           }
          ],
          "table": [
           {
            "cells": {
             "fill": {
              "color": "#EBF0F8"
             },
             "line": {
              "color": "white"
             }
            },
            "header": {
             "fill": {
              "color": "#C8D4E3"
             },
             "line": {
              "color": "white"
             }
            },
            "type": "table"
           }
          ]
         },
         "layout": {
          "annotationdefaults": {
           "arrowcolor": "#2a3f5f",
           "arrowhead": 0,
           "arrowwidth": 1
          },
          "autotypenumbers": "strict",
          "coloraxis": {
           "colorbar": {
            "outlinewidth": 0,
            "ticks": ""
           }
          },
          "colorscale": {
           "diverging": [
            [
             0,
             "#8e0152"
            ],
            [
             0.1,
             "#c51b7d"
            ],
            [
             0.2,
             "#de77ae"
            ],
            [
             0.3,
             "#f1b6da"
            ],
            [
             0.4,
             "#fde0ef"
            ],
            [
             0.5,
             "#f7f7f7"
            ],
            [
             0.6,
             "#e6f5d0"
            ],
            [
             0.7,
             "#b8e186"
            ],
            [
             0.8,
             "#7fbc41"
            ],
            [
             0.9,
             "#4d9221"
            ],
            [
             1,
             "#276419"
            ]
           ],
           "sequential": [
            [
             0,
             "#0d0887"
            ],
            [
             0.1111111111111111,
             "#46039f"
            ],
            [
             0.2222222222222222,
             "#7201a8"
            ],
            [
             0.3333333333333333,
             "#9c179e"
            ],
            [
             0.4444444444444444,
             "#bd3786"
            ],
            [
             0.5555555555555556,
             "#d8576b"
            ],
            [
             0.6666666666666666,
             "#ed7953"
            ],
            [
             0.7777777777777778,
             "#fb9f3a"
            ],
            [
             0.8888888888888888,
             "#fdca26"
            ],
            [
             1,
             "#f0f921"
            ]
           ],
           "sequentialminus": [
            [
             0,
             "#0d0887"
            ],
            [
             0.1111111111111111,
             "#46039f"
            ],
            [
             0.2222222222222222,
             "#7201a8"
            ],
            [
             0.3333333333333333,
             "#9c179e"
            ],
            [
             0.4444444444444444,
             "#bd3786"
            ],
            [
             0.5555555555555556,
             "#d8576b"
            ],
            [
             0.6666666666666666,
             "#ed7953"
            ],
            [
             0.7777777777777778,
             "#fb9f3a"
            ],
            [
             0.8888888888888888,
             "#fdca26"
            ],
            [
             1,
             "#f0f921"
            ]
           ]
          },
          "colorway": [
           "#636efa",
           "#EF553B",
           "#00cc96",
           "#ab63fa",
           "#FFA15A",
           "#19d3f3",
           "#FF6692",
           "#B6E880",
           "#FF97FF",
           "#FECB52"
          ],
          "font": {
           "color": "#2a3f5f"
          },
          "geo": {
           "bgcolor": "white",
           "lakecolor": "white",
           "landcolor": "#E5ECF6",
           "showlakes": true,
           "showland": true,
           "subunitcolor": "white"
          },
          "hoverlabel": {
           "align": "left"
          },
          "hovermode": "closest",
          "mapbox": {
           "style": "light"
          },
          "paper_bgcolor": "white",
          "plot_bgcolor": "#E5ECF6",
          "polar": {
           "angularaxis": {
            "gridcolor": "white",
            "linecolor": "white",
            "ticks": ""
           },
           "bgcolor": "#E5ECF6",
           "radialaxis": {
            "gridcolor": "white",
            "linecolor": "white",
            "ticks": ""
           }
          },
          "scene": {
           "xaxis": {
            "backgroundcolor": "#E5ECF6",
            "gridcolor": "white",
            "gridwidth": 2,
            "linecolor": "white",
            "showbackground": true,
            "ticks": "",
            "zerolinecolor": "white"
           },
           "yaxis": {
            "backgroundcolor": "#E5ECF6",
            "gridcolor": "white",
            "gridwidth": 2,
            "linecolor": "white",
            "showbackground": true,
            "ticks": "",
            "zerolinecolor": "white"
           },
           "zaxis": {
            "backgroundcolor": "#E5ECF6",
            "gridcolor": "white",
            "gridwidth": 2,
            "linecolor": "white",
            "showbackground": true,
            "ticks": "",
            "zerolinecolor": "white"
           }
          },
          "shapedefaults": {
           "line": {
            "color": "#2a3f5f"
           }
          },
          "ternary": {
           "aaxis": {
            "gridcolor": "white",
            "linecolor": "white",
            "ticks": ""
           },
           "baxis": {
            "gridcolor": "white",
            "linecolor": "white",
            "ticks": ""
           },
           "bgcolor": "#E5ECF6",
           "caxis": {
            "gridcolor": "white",
            "linecolor": "white",
            "ticks": ""
           }
          },
          "title": {
           "x": 0.05
          },
          "xaxis": {
           "automargin": true,
           "gridcolor": "white",
           "linecolor": "white",
           "ticks": "",
           "title": {
            "standoff": 15
           },
           "zerolinecolor": "white",
           "zerolinewidth": 2
          },
          "yaxis": {
           "automargin": true,
           "gridcolor": "white",
           "linecolor": "white",
           "ticks": "",
           "title": {
            "standoff": 15
           },
           "zerolinecolor": "white",
           "zerolinewidth": 2
          }
         }
        },
        "title": {
         "text": "Promedio CpG seleccionados vs Edad para gen GATA4"
        },
        "xaxis": {
         "anchor": "y",
         "domain": [
          0,
          1
         ],
         "title": {
          "text": "Edad"
         }
        },
        "yaxis": {
         "anchor": "x",
         "domain": [
          0,
          1
         ],
         "title": {
          "text": "Promedio de CpG"
         }
        }
       }
      }
     },
     "metadata": {},
     "output_type": "display_data"
    }
   ],
   "source": [
    "plot_mean_age(df_gata4, 'GATA4')"
   ]
  },
  {
   "attachments": {},
   "cell_type": "markdown",
   "metadata": {},
   "source": [
    "##### KLK10"
   ]
  },
  {
   "cell_type": "code",
   "execution_count": 78,
   "metadata": {},
   "outputs": [
    {
     "data": {
      "image/png": "[encoded data removed]",
      "text/plain": [
       "<Figure size 1200x600 with 2 Axes>"
      ]
     },
     "metadata": {},
     "output_type": "display_data"
    }
   ],
   "source": [
    "df_klk10 = top_3_df[2].sort_values(by='tumor')\n",
    "heatmap_gene(df_klk10, 'KLK10')"
   ]
  },
  {
   "cell_type": "code",
   "execution_count": 79,
   "metadata": {},
   "outputs": [
    {
     "data": {
      "application/vnd.plotly.v1+json": {
       "config": {
        "plotlyServerURL": "https://plot.ly"
       },
       "data": [
        {
         "hovertemplate": "Tumor=No tumor<br>Edad=%{x}<br>Promedio de CpG=%{y}<extra></extra>",
         "legendgroup": "No tumor",
         "marker": {
          "color": "#636efa",
          "symbol": "circle"
         },
         "mode": "markers",
         "name": "No tumor",
         "orientation": "v",
         "showlegend": true,
         "type": "scatter",
         "x": [
          79.32648870636551,
          55.17316906228611,
          69.15537303216975,
          54.30800821355236,
          65.00205338809035,
          61.74948665297741,
          52.83504449007529,
          62.86652977412731,
          63.00068446269678,
          37.11430527036276,
          69.43737166324435,
          52.668035592060235,
          64.68993839835728,
          83.75085557837097,
          57.3305954825462,
          47.841204654346335,
          78.57357973990418,
          42.997946611909654,
          80.91718001368925,
          40.982888432580424,
          68.33675564681725,
          40.77754962354552,
          43.540041067761805,
          82.67214236824093,
          57.002053388090346,
          62.58179329226557,
          41.281314168377826
         ],
         "xaxis": "x",
         "y": [
          0.05183504270544552,
          0.06680647395160841,
          0.06422699828340188,
          0.06298251464329821,
          0.047638249565726584,
          0.0435461004524613,
          0.049298765662536034,
          0.04463599410504625,
          0.04881392962246914,
          0.10112192298415115,
          0.054887557171588726,
          0.06540959420981747,
          0.049449218484621194,
          0.056625595190293254,
          0.05696142191975679,
          0.06764878688461937,
          0.05049158627845665,
          0.05039335227787127,
          0.05093459718740232,
          0.03764112568874416,
          0.04048828444211272,
          0.05921826071569464,
          0.05783538666317364,
          0.05884397213954144,
          0.05597975033508504,
          0.047595967884653825,
          0.051400305310831985
         ],
         "yaxis": "y"
        },
        {
         "hovertemplate": "Tumor=Tumor<br>Edad=%{x}<br>Promedio de CpG=%{y}<extra></extra>",
         "legendgroup": "Tumor",
         "marker": {
          "color": "#EF553B",
          "symbol": "circle"
         },
         "mode": "markers",
         "name": "Tumor",
         "orientation": "v",
         "showlegend": true,
         "type": "scatter",
         "x": [
          57.50034223134839,
          51.32922655715264,
          50.2258726899384,
          54.247775496235455,
          59.2498288843258,
          79.71252566735113,
          50.71594798083505,
          71.95345653661876,
          57.30321697467488,
          55.70704996577687,
          80.83504449007529,
          66.1327857631759,
          45.7741273100616,
          65.37440109514031,
          54.21492128678987,
          89.99863107460644,
          79.41409993155374,
          80.17796030116358,
          48.41067761806981,
          80.41067761806981,
          67.60301163586584,
          42.54620123203286,
          35.15674195756331,
          56.31759069130732,
          45.26488706365503,
          62.171115674195754,
          80.16427104722793,
          61.2539356605065,
          73.43737166324435,
          45.489390828199866,
          62.17659137577002,
          57.11430527036276,
          50.70225872689939,
          53.08418891170431,
          73.49760438056126,
          49.385352498288846,
          34.61190965092403,
          46.06160164271047,
          78.66666666666667,
          34.691307323750856,
          72.3504449007529,
          66.34360027378509,
          48.35044490075291,
          51.31006160164271,
          48.77481177275838,
          58.666666666666664,
          77.58521560574948,
          71.1129363449692,
          76.88980150581793,
          56.88158795345654,
          71.1129363449692,
          53.15537303216975,
          41.30047912388775,
          50.70225872689939,
          61.01026694045174,
          50.6694045174538,
          45.19644079397673,
          58.8062970568104,
          60.596851471594796,
          46.92950034223135,
          45.7741273100616,
          58.12457221081451,
          52.33127994524298,
          64.53114305270363,
          37.79603011635866,
          88.7173169062286,
          73.08145106091717,
          83.58110882956879,
          69.75222450376455,
          45.72758384668035,
          73.91649555099247,
          51.00068446269678,
          71.16769336071184,
          47.29637234770705,
          52.610540725530456,
          74.77891854893909,
          67.75085557837097,
          78.29158110882958,
          85.83436002737851,
          43.186858316221766,
          69.41820670773443,
          81.88090349075975,
          55.70431211498973,
          56.68720054757016,
          52.33949349760438,
          62.168377823408626,
          66.83367556468173,
          65.50581793292265,
          88.87611225188228,
          79.32648870636551,
          64.83778234086242,
          70.25051334702259,
          53.35797399041752,
          36.24366872005476,
          68.47364818617385,
          66.33812457221082,
          64.73921971252567,
          64.99931553730322,
          79.75633127994524,
          48.92813141683778,
          63.148528405201915,
          76.5968514715948,
          46.06160164271047,
          59.19780971937029,
          78.47775496235455,
          50.71594798083505,
          63.775496235455165,
          60.662559890485966,
          66.43668720054757,
          66.91854893908283,
          67.129363449692,
          69.25119780971937,
          47.6933607118412,
          61.497604380561256,
          62.450376454483234,
          56.60506502395619,
          62.620123203285424,
          52.865160848733744,
          47.748117727583846,
          46.614647501711154,
          64.50376454483231,
          54.001368925393564,
          61.667351129363446,
          58.76522929500342,
          58.4476386036961,
          68.03559206023272,
          56.95824777549623,
          42.691307323750856,
          69.74674880219028,
          52.747433264887064,
          58.6611909650924,
          84.08213552361396,
          69.56331279945243,
          59.49623545516769,
          56.04654346338125,
          54.119096509240244,
          55.72073921971253,
          64.68993839835728,
          84.82956878850102,
          39.68240930869268,
          73.88911704312115,
          51.676933607118414,
          49.319644079397676,
          43.75085557837098,
          70.66666666666667,
          68.8788501026694,
          37.45379876796714,
          69.85626283367556,
          56.1368925393566,
          63.79192334017796,
          41.8590006844627,
          65.49486652977413,
          50.46680355920602,
          66.59000684462697,
          74.36824093086926,
          42.77891854893908,
          35.15674195756331,
          51.676933607118414,
          75.91786447638604,
          56.60506502395619,
          74.05065023956195,
          63.59753593429158,
          56.709103353867214,
          65.75496235455168,
          62.69678302532512,
          45.83709787816564,
          51.97535934291581,
          41.281314168377826,
          63.419575633128,
          62.02874743326489,
          76.50102669404518,
          68.25188227241615,
          67.65229295003422,
          75.44695414099931,
          55.66598220396988,
          51.663244353182755,
          89.66461327857631,
          65.28405201916496,
          58.42026009582478,
          60.84052019164955,
          47.15674195756331,
          36.87063655030801,
          61.95482546201232,
          63.0280629705681,
          64.77754962354551,
          76.43258042436688,
          56.72553045859001,
          62.157426420260094,
          45.51129363449692,
          62.417522245037645,
          58.666666666666664,
          55.044490075290895,
          60.54757015742642,
          73.16358658453115,
          51.860369609856264,
          45.82067077344285,
          62.417522245037645,
          53.478439425051334,
          41.95482546201232,
          72.3504449007529,
          79.18685831622176,
          39.68240930869268,
          38.280629705681044,
          61.26488706365503,
          78.10814510609171,
          35.60301163586585,
          50.90759753593429,
          52.878850102669404,
          54.42847364818618,
          48.13141683778234,
          49.270362765229294,
          72.68446269678303,
          50.90759753593429,
          41.8507871321013,
          53.14989733059548,
          43.540041067761805,
          39.7864476386037,
          48.41067761806981,
          59.66598220396988,
          41.002053388090346,
          29.60164271047228,
          62.666666666666664,
          48.75290896646133,
          50.98151950718686,
          51.611225188227245,
          89.20739219712526,
          74.99794661190965,
          48.48733744010951,
          66.49691991786447,
          45.8590006844627,
          66.74880219028063,
          52.45722108145106,
          81.64271047227926,
          79.68240930869267,
          39.01437371663244,
          76.21355236139631,
          66.3709787816564,
          42.691307323750856,
          56.61327857631759,
          70.29158110882958,
          40.16153319644079,
          65.85626283367556,
          57.53319644079398,
          88.7173169062286,
          34.85010266940452,
          68.74743326488706,
          61.828884325804246,
          51.99452429842574,
          40.747433264887064,
          70.08350444900753,
          41.84531143052703,
          44.837782340862425,
          51.35934291581109,
          65.28405201916496,
          68.4435318275154,
          59.98631074606434,
          61.99041752224504,
          64.79671457905545,
          73.42094455852155,
          57.11978097193703,
          60.84052019164955,
          66.08350444900753,
          39.7864476386037,
          67.1895961670089,
          40.04380561259411,
          38.288843258042434,
          52.09582477754962,
          78.10814510609171,
          61.38809034907597,
          52.435318275154,
          62.51334702258727,
          35.49623545516769,
          80.0848733744011,
          76.66803559206024,
          82.04243668720055,
          32.65982203969884,
          69.16632443531827,
          81.58795345653662,
          46.743326488706366,
          81.74674880219028,
          46.15468856947297,
          71.20328542094455,
          53.779603011635864,
          35.60301163586585,
          74.25325119780972,
          45.73579739904175,
          75.16769336071184,
          52.04654346338125,
          41.210130047912386,
          66.43668720054757,
          62.110882956878854,
          58.91854893908282,
          84.16700889801506,
          49.66461327857632,
          76.69541409993155,
          89.91649555099247,
          54.902121834360024,
          76.83230663928816,
          64.45722108145107,
          73.16632443531827,
          56.61327857631759,
          42.502395619438744,
          54.119096509240244,
          36.71184120465435,
          70.24777549623545,
          65.65366187542779,
          62.43668720054757,
          50.666666666666664,
          62.02874743326489,
          80.66529774127311,
          36.8104038329911,
          46.666666666666664
         ],
         "xaxis": "x",
         "y": [
          0.3023817214669795,
          0.10204214277849008,
          0.06983544326667213,
          0.18774292332054257,
          0.06770839775076434,
          0.04797194827472347,
          0.15294618866986234,
          0.1541994806932247,
          0.10043171753493003,
          0.09750927976689805,
          0.0363453311649154,
          0.06284125059429788,
          0.27667848036102505,
          0.14978448118395335,
          0.16848019028708255,
          0.08822827475494716,
          0.0591320520696479,
          0.10601514214701353,
          0.05195333780214158,
          0.09663784067609937,
          0.06973353672256913,
          0.0832945458578856,
          0.0650973392217761,
          0.042641035273356526,
          0.056293545962666905,
          0.06395743426402331,
          0.07119110149739323,
          0.06437386489469976,
          0.06729580594185741,
          0.23948504769296738,
          0.047801813748759664,
          0.06227323266169628,
          0.40155525902035877,
          0.1298190973462498,
          0.13638400297471096,
          0.04638377218883813,
          0.2922817593434306,
          0.04798245640589425,
          0.25388733947388215,
          0.051350456249514245,
          0.08249935335181709,
          0.39823081103972446,
          0.0876967736804973,
          0.3338238088591299,
          0.07200908878579265,
          0.12617688107151237,
          0.09328329072837539,
          0.1600125678531765,
          0.2599908615672443,
          0.24879441079826323,
          0.08070570179517551,
          0.0938883088235931,
          0.09564974762569282,
          0.14730206585014596,
          0.09762726278496305,
          0.15835240274313997,
          0.0578174354840737,
          0.1487796870297689,
          0.18570762968339616,
          0.24882429857936023,
          0.03493066144093611,
          0.04569919439543471,
          0.08172430114398918,
          0.11671762092739871,
          0.2985831744398098,
          0.05409740493868903,
          0.22872248289951694,
          0.09102716229148264,
          0.19793808404641935,
          0.08173667067592497,
          0.25659140888568055,
          0.12932354230414733,
          0.0679979756012614,
          0.2056085002310337,
          0.09175304908844818,
          0.11861401808138712,
          0.08034593594948665,
          0.08001879530843314,
          0.14607380402156517,
          0.08319124582410495,
          0.37791944908941866,
          0.2722533839603174,
          0.08171049941043594,
          0.048693521724975,
          0.05261909562885354,
          0.1914088479808488,
          0.17707269496888106,
          0.0710213585120099,
          0.33034286795157386,
          0.07595761315799279,
          0.25740278797628563,
          0.05585889781311235,
          0.05015690148874144,
          0.27433790896362126,
          0.10307377900700651,
          0.04576458147511531,
          0.32796051440205815,
          0.06096398752396684,
          0.07226028277249422,
          0.42568114598887774,
          0.2216868595760897,
          0.3731494622817395,
          0.09164429821756875,
          0.09754812325247664,
          0.0729786475892211,
          0.1104990584616254,
          0.047345981107761156,
          0.09064196102735411,
          0.07981338188237286,
          0.04124907187881601,
          0.0953966083671303,
          0.1806655703278669,
          0.22157506842086122,
          0.06804840231233891,
          0.05910024711332305,
          0.1345434909741558,
          0.1519459357709709,
          0.34391141648897033,
          0.052018174429473214,
          0.4168615454113689,
          0.07958002828501178,
          0.2712347609662482,
          0.3168525874331982,
          0.24902558960627919,
          0.10781063413564293,
          0.15508325851187432,
          0.04815848871253818,
          0.2728764846721106,
          0.2623552041940714,
          0.07697540717528367,
          0.06286011747950565,
          0.06871537143866768,
          0.0761240162565412,
          0.09838487284154068,
          0.07634643400005461,
          0.21264811736363448,
          0.06322620407411478,
          0.04991984051190368,
          0.20276326159293437,
          0.09999661968624213,
          0.04143442565307892,
          0.18512765251371105,
          0.0959886974482553,
          0.16639384260248957,
          0.3344932261137347,
          0.11480947311832186,
          0.3487250204078412,
          0.20938910831142818,
          0.1029725392373546,
          0.06189537174078794,
          0.16197121958199304,
          0.07756363891489515,
          0.05479043389450916,
          0.11621580358554995,
          0.18253619804781585,
          0.07917157880406094,
          0.09898160889337308,
          0.058342277211924184,
          0.06844918647296867,
          0.05392960072173179,
          0.07118276335424466,
          0.06935686922758805,
          0.11142752714606916,
          0.09688784609560024,
          0.10260850291976223,
          0.29259651654113394,
          0.07427234212852887,
          0.05939187856749015,
          0.25099287450976715,
          0.3879871118412828,
          0.2056198424094316,
          0.09663884496018305,
          0.04999221003129026,
          0.05358094141699488,
          0.1663819850569491,
          0.08995092862638607,
          0.11342621001473402,
          0.07158557737888832,
          0.050231445195043536,
          0.05443490315674075,
          0.1588174936042948,
          0.4010736642407799,
          0.04906877067434956,
          0.3904523874439061,
          0.3174020362197149,
          0.08057244604652047,
          0.3729007418775574,
          0.4314049384450781,
          0.10123501220918446,
          0.10988147226506972,
          0.05443114732693401,
          0.16129343973290688,
          0.15106284593078817,
          0.046787720550101726,
          0.09434134925632717,
          0.22040494062724517,
          0.07704270389761711,
          0.19440719351738475,
          0.3072651255825078,
          0.23130739691372926,
          0.10792328989166039,
          0.2750786236148266,
          0.11767224495664,
          0.04759684721631327,
          0.2293211466436024,
          0.16794895089032402,
          0.05177352873640971,
          0.051361621683974734,
          0.07233082386934281,
          0.16616859909550896,
          0.07344563593829956,
          0.08841545802979639,
          0.21265704566545582,
          0.07361630507238723,
          0.09539302254622056,
          0.052125609052186085,
          0.12368749398957933,
          0.17981622233173644,
          0.08969416111992223,
          0.08032772863362483,
          0.1817862870463475,
          0.06322069408009376,
          0.05004501838626861,
          0.17144704854373602,
          0.09675224691769213,
          0.32166206442488643,
          0.15847306259968386,
          0.04606797695213381,
          0.09455759005517064,
          0.12904934138462526,
          0.18006841107923474,
          0.32183185636905887,
          0.25048302955503954,
          0.18124992334257847,
          0.1005262793715693,
          0.3115705161447444,
          0.07666489692152548,
          0.0821591331812912,
          0.330136367809151,
          0.16670152272921648,
          0.07125267687181189,
          0.05859948954844864,
          0.05980561114653547,
          0.5360153601401569,
          0.2451271520649004,
          0.17210144432050214,
          0.12207586068205079,
          0.14600034644772691,
          0.16249860018029122,
          0.11912133845016916,
          0.6690042202924403,
          0.06680328785331921,
          0.6133467618083048,
          0.1894464237270277,
          0.10013326598330945,
          0.0810817277247862,
          0.07967689964080163,
          0.1055832561221626,
          0.14929121120067512,
          0.05064838301290574,
          0.05000391725273594,
          0.18411216211930886,
          0.1174333426260475,
          0.03741045533556733,
          0.07452820400033547,
          0.5399738789860438,
          0.04439849314811476,
          0.07711536635081781,
          0.2895541942314224,
          0.12542843998811604,
          0.059915335558370364,
          0.13458691436005843,
          0.041902940488930805,
          0.06903016532164716,
          0.05174749330393372,
          0.07241755624762797,
          0.05773641180951551,
          0.06253879004271166,
          0.10325755258173477,
          0.19168269593967266,
          0.09909680019910988,
          0.3074627056926286,
          0.11395021315878205,
          0.08184236870265205,
          0.0970540169121984,
          0.4450586368008479,
          0.040920596254774226,
          0.04507029422256971,
          0.27831205845749124,
          0.12548351810422093,
          0.11548774420416177,
          0.10018384195474252,
          0.12645777775304018,
          0.13430806989900707,
          0.09637879305096142,
          0.28976572321709915,
          0.576146696547397,
          0.11308806505799972,
          0.13548285733585463,
          0.49170337186422847,
          0.05518665970383315,
          0.06921098003105888,
          0.11545937162785602,
          0.23365515071284138,
          0.10505732534622998,
          0.06959104258955899,
          0.07214238646098789,
          0.1016080184963688,
          0.0825490677362502,
          0.06268138115288739,
          0.10637954938682984,
          0.0966260480920743
         ],
         "yaxis": "y"
        }
       ],
       "layout": {
        "legend": {
         "title": {
          "text": "Tumor"
         },
         "tracegroupgap": 0
        },
        "template": {
         "data": {
          "bar": [
           {
            "error_x": {
             "color": "#2a3f5f"
            },
            "error_y": {
             "color": "#2a3f5f"
            },
            "marker": {
             "line": {
              "color": "#E5ECF6",
              "width": 0.5
             },
             "pattern": {
              "fillmode": "overlay",
              "size": 10,
              "solidity": 0.2
             }
            },
            "type": "bar"
           }
          ],
          "barpolar": [
           {
            "marker": {
             "line": {
              "color": "#E5ECF6",
              "width": 0.5
             },
             "pattern": {
              "fillmode": "overlay",
              "size": 10,
              "solidity": 0.2
             }
            },
            "type": "barpolar"
           }
          ],
          "carpet": [
           {
            "aaxis": {
             "endlinecolor": "#2a3f5f",
             "gridcolor": "white",
             "linecolor": "white",
             "minorgridcolor": "white",
             "startlinecolor": "#2a3f5f"
            },
            "baxis": {
             "endlinecolor": "#2a3f5f",
             "gridcolor": "white",
             "linecolor": "white",
             "minorgridcolor": "white",
             "startlinecolor": "#2a3f5f"
            },
            "type": "carpet"
           }
          ],
          "choropleth": [
           {
            "colorbar": {
             "outlinewidth": 0,
             "ticks": ""
            },
            "type": "choropleth"
           }
          ],
          "contour": [
           {
            "colorbar": {
             "outlinewidth": 0,
             "ticks": ""
            },
            "colorscale": [
             [
              0,
              "#0d0887"
             ],
             [
              0.1111111111111111,
              "#46039f"
             ],
             [
              0.2222222222222222,
              "#7201a8"
             ],
             [
              0.3333333333333333,
              "#9c179e"
             ],
             [
              0.4444444444444444,
              "#bd3786"
             ],
             [
              0.5555555555555556,
              "#d8576b"
             ],
             [
              0.6666666666666666,
              "#ed7953"
             ],
             [
              0.7777777777777778,
              "#fb9f3a"
             ],
             [
              0.8888888888888888,
              "#fdca26"
             ],
             [
              1,
              "#f0f921"
             ]
            ],
            "type": "contour"
           }
          ],
          "contourcarpet": [
           {
            "colorbar": {
             "outlinewidth": 0,
             "ticks": ""
            },
            "type": "contourcarpet"
           }
          ],
          "heatmap": [
           {
            "colorbar": {
             "outlinewidth": 0,
             "ticks": ""
            },
            "colorscale": [
             [
              0,
              "#0d0887"
             ],
             [
              0.1111111111111111,
              "#46039f"
             ],
             [
              0.2222222222222222,
              "#7201a8"
             ],
             [
              0.3333333333333333,
              "#9c179e"
             ],
             [
              0.4444444444444444,
              "#bd3786"
             ],
             [
              0.5555555555555556,
              "#d8576b"
             ],
             [
              0.6666666666666666,
              "#ed7953"
             ],
             [
              0.7777777777777778,
              "#fb9f3a"
             ],
             [
              0.8888888888888888,
              "#fdca26"
             ],
             [
              1,
              "#f0f921"
             ]
            ],
            "type": "heatmap"
           }
          ],
          "heatmapgl": [
           {
            "colorbar": {
             "outlinewidth": 0,
             "ticks": ""
            },
            "colorscale": [
             [
              0,
              "#0d0887"
             ],
             [
              0.1111111111111111,
              "#46039f"
             ],
             [
              0.2222222222222222,
              "#7201a8"
             ],
             [
              0.3333333333333333,
              "#9c179e"
             ],
             [
              0.4444444444444444,
              "#bd3786"
             ],
             [
              0.5555555555555556,
              "#d8576b"
             ],
             [
              0.6666666666666666,
              "#ed7953"
             ],
             [
              0.7777777777777778,
              "#fb9f3a"
             ],
             [
              0.8888888888888888,
              "#fdca26"
             ],
             [
              1,
              "#f0f921"
             ]
            ],
            "type": "heatmapgl"
           }
          ],
          "histogram": [
           {
            "marker": {
             "pattern": {
              "fillmode": "overlay",
              "size": 10,
              "solidity": 0.2
             }
            },
            "type": "histogram"
           }
          ],
          "histogram2d": [
           {
            "colorbar": {
             "outlinewidth": 0,
             "ticks": ""
            },
            "colorscale": [
             [
              0,
              "#0d0887"
             ],
             [
              0.1111111111111111,
              "#46039f"
             ],
             [
              0.2222222222222222,
              "#7201a8"
             ],
             [
              0.3333333333333333,
              "#9c179e"
             ],
             [
              0.4444444444444444,
              "#bd3786"
             ],
             [
              0.5555555555555556,
              "#d8576b"
             ],
             [
              0.6666666666666666,
              "#ed7953"
             ],
             [
              0.7777777777777778,
              "#fb9f3a"
             ],
             [
              0.8888888888888888,
              "#fdca26"
             ],
             [
              1,
              "#f0f921"
             ]
            ],
            "type": "histogram2d"
           }
          ],
          "histogram2dcontour": [
           {
            "colorbar": {
             "outlinewidth": 0,
             "ticks": ""
            },
            "colorscale": [
             [
              0,
              "#0d0887"
             ],
             [
              0.1111111111111111,
              "#46039f"
             ],
             [
              0.2222222222222222,
              "#7201a8"
             ],
             [
              0.3333333333333333,
              "#9c179e"
             ],
             [
              0.4444444444444444,
              "#bd3786"
             ],
             [
              0.5555555555555556,
              "#d8576b"
             ],
             [
              0.6666666666666666,
              "#ed7953"
             ],
             [
              0.7777777777777778,
              "#fb9f3a"
             ],
             [
              0.8888888888888888,
              "#fdca26"
             ],
             [
              1,
              "#f0f921"
             ]
            ],
            "type": "histogram2dcontour"
           }
          ],
          "mesh3d": [
           {
            "colorbar": {
             "outlinewidth": 0,
             "ticks": ""
            },
            "type": "mesh3d"
           }
          ],
          "parcoords": [
           {
            "line": {
             "colorbar": {
              "outlinewidth": 0,
              "ticks": ""
             }
            },
            "type": "parcoords"
           }
          ],
          "pie": [
           {
            "automargin": true,
            "type": "pie"
           }
          ],
          "scatter": [
           {
            "fillpattern": {
             "fillmode": "overlay",
             "size": 10,
             "solidity": 0.2
            },
            "type": "scatter"
           }
          ],
          "scatter3d": [
           {
            "line": {
             "colorbar": {
              "outlinewidth": 0,
              "ticks": ""
             }
            },
            "marker": {
             "colorbar": {
              "outlinewidth": 0,
              "ticks": ""
             }
            },
            "type": "scatter3d"
           }
          ],
          "scattercarpet": [
           {
            "marker": {
             "colorbar": {
              "outlinewidth": 0,
              "ticks": ""
             }
            },
            "type": "scattercarpet"
           }
          ],
          "scattergeo": [
           {
            "marker": {
             "colorbar": {
              "outlinewidth": 0,
              "ticks": ""
             }
            },
            "type": "scattergeo"
           }
          ],
          "scattergl": [
           {
            "marker": {
             "colorbar": {
              "outlinewidth": 0,
              "ticks": ""
             }
            },
            "type": "scattergl"
           }
          ],
          "scattermapbox": [
           {
            "marker": {
             "colorbar": {
              "outlinewidth": 0,
              "ticks": ""
             }
            },
            "type": "scattermapbox"
           }
          ],
          "scatterpolar": [
           {
            "marker": {
             "colorbar": {
              "outlinewidth": 0,
              "ticks": ""
             }
            },
            "type": "scatterpolar"
           }
          ],
          "scatterpolargl": [
           {
            "marker": {
             "colorbar": {
              "outlinewidth": 0,
              "ticks": ""
             }
            },
            "type": "scatterpolargl"
           }
          ],
          "scatterternary": [
           {
            "marker": {
             "colorbar": {
              "outlinewidth": 0,
              "ticks": ""
             }
            },
            "type": "scatterternary"
           }
          ],
          "surface": [
           {
            "colorbar": {
             "outlinewidth": 0,
             "ticks": ""
            },
            "colorscale": [
             [
              0,
              "#0d0887"
             ],
             [
              0.1111111111111111,
              "#46039f"
             ],
             [
              0.2222222222222222,
              "#7201a8"
             ],
             [
              0.3333333333333333,
              "#9c179e"
             ],
             [
              0.4444444444444444,
              "#bd3786"
             ],
             [
              0.5555555555555556,
              "#d8576b"
             ],
             [
              0.6666666666666666,
              "#ed7953"
             ],
             [
              0.7777777777777778,
              "#fb9f3a"
             ],
             [
              0.8888888888888888,
              "#fdca26"
             ],
             [
              1,
              "#f0f921"
             ]
            ],
            "type": "surface"
           }
          ],
          "table": [
           {
            "cells": {
             "fill": {
              "color": "#EBF0F8"
             },
             "line": {
              "color": "white"
             }
            },
            "header": {
             "fill": {
              "color": "#C8D4E3"
             },
             "line": {
              "color": "white"
             }
            },
            "type": "table"
           }
          ]
         },
         "layout": {
          "annotationdefaults": {
           "arrowcolor": "#2a3f5f",
           "arrowhead": 0,
           "arrowwidth": 1
          },
          "autotypenumbers": "strict",
          "coloraxis": {
           "colorbar": {
            "outlinewidth": 0,
            "ticks": ""
           }
          },
          "colorscale": {
           "diverging": [
            [
             0,
             "#8e0152"
            ],
            [
             0.1,
             "#c51b7d"
            ],
            [
             0.2,
             "#de77ae"
            ],
            [
             0.3,
             "#f1b6da"
            ],
            [
             0.4,
             "#fde0ef"
            ],
            [
             0.5,
             "#f7f7f7"
            ],
            [
             0.6,
             "#e6f5d0"
            ],
            [
             0.7,
             "#b8e186"
            ],
            [
             0.8,
             "#7fbc41"
            ],
            [
             0.9,
             "#4d9221"
            ],
            [
             1,
             "#276419"
            ]
           ],
           "sequential": [
            [
             0,
             "#0d0887"
            ],
            [
             0.1111111111111111,
             "#46039f"
            ],
            [
             0.2222222222222222,
             "#7201a8"
            ],
            [
             0.3333333333333333,
             "#9c179e"
            ],
            [
             0.4444444444444444,
             "#bd3786"
            ],
            [
             0.5555555555555556,
             "#d8576b"
            ],
            [
             0.6666666666666666,
             "#ed7953"
            ],
            [
             0.7777777777777778,
             "#fb9f3a"
            ],
            [
             0.8888888888888888,
             "#fdca26"
            ],
            [
             1,
             "#f0f921"
            ]
           ],
           "sequentialminus": [
            [
             0,
             "#0d0887"
            ],
            [
             0.1111111111111111,
             "#46039f"
            ],
            [
             0.2222222222222222,
             "#7201a8"
            ],
            [
             0.3333333333333333,
             "#9c179e"
            ],
            [
             0.4444444444444444,
             "#bd3786"
            ],
            [
             0.5555555555555556,
             "#d8576b"
            ],
            [
             0.6666666666666666,
             "#ed7953"
            ],
            [
             0.7777777777777778,
             "#fb9f3a"
            ],
            [
             0.8888888888888888,
             "#fdca26"
            ],
            [
             1,
             "#f0f921"
            ]
           ]
          },
          "colorway": [
           "#636efa",
           "#EF553B",
           "#00cc96",
           "#ab63fa",
           "#FFA15A",
           "#19d3f3",
           "#FF6692",
           "#B6E880",
           "#FF97FF",
           "#FECB52"
          ],
          "font": {
           "color": "#2a3f5f"
          },
          "geo": {
           "bgcolor": "white",
           "lakecolor": "white",
           "landcolor": "#E5ECF6",
           "showlakes": true,
           "showland": true,
           "subunitcolor": "white"
          },
          "hoverlabel": {
           "align": "left"
          },
          "hovermode": "closest",
          "mapbox": {
           "style": "light"
          },
          "paper_bgcolor": "white",
          "plot_bgcolor": "#E5ECF6",
          "polar": {
           "angularaxis": {
            "gridcolor": "white",
            "linecolor": "white",
            "ticks": ""
           },
           "bgcolor": "#E5ECF6",
           "radialaxis": {
            "gridcolor": "white",
            "linecolor": "white",
            "ticks": ""
           }
          },
          "scene": {
           "xaxis": {
            "backgroundcolor": "#E5ECF6",
            "gridcolor": "white",
            "gridwidth": 2,
            "linecolor": "white",
            "showbackground": true,
            "ticks": "",
            "zerolinecolor": "white"
           },
           "yaxis": {
            "backgroundcolor": "#E5ECF6",
            "gridcolor": "white",
            "gridwidth": 2,
            "linecolor": "white",
            "showbackground": true,
            "ticks": "",
            "zerolinecolor": "white"
           },
           "zaxis": {
            "backgroundcolor": "#E5ECF6",
            "gridcolor": "white",
            "gridwidth": 2,
            "linecolor": "white",
            "showbackground": true,
            "ticks": "",
            "zerolinecolor": "white"
           }
          },
          "shapedefaults": {
           "line": {
            "color": "#2a3f5f"
           }
          },
          "ternary": {
           "aaxis": {
            "gridcolor": "white",
            "linecolor": "white",
            "ticks": ""
           },
           "baxis": {
            "gridcolor": "white",
            "linecolor": "white",
            "ticks": ""
           },
           "bgcolor": "#E5ECF6",
           "caxis": {
            "gridcolor": "white",
            "linecolor": "white",
            "ticks": ""
           }
          },
          "title": {
           "x": 0.05
          },
          "xaxis": {
           "automargin": true,
           "gridcolor": "white",
           "linecolor": "white",
           "ticks": "",
           "title": {
            "standoff": 15
           },
           "zerolinecolor": "white",
           "zerolinewidth": 2
          },
          "yaxis": {
           "automargin": true,
           "gridcolor": "white",
           "linecolor": "white",
           "ticks": "",
           "title": {
            "standoff": 15
           },
           "zerolinecolor": "white",
           "zerolinewidth": 2
          }
         }
        },
        "title": {
         "text": "Promedio CpG seleccionados vs Edad para gen KLK10"
        },
        "xaxis": {
         "anchor": "y",
         "domain": [
          0,
          1
         ],
         "title": {
          "text": "Edad"
         }
        },
        "yaxis": {
         "anchor": "x",
         "domain": [
          0,
          1
         ],
         "title": {
          "text": "Promedio de CpG"
         }
        }
       }
      }
     },
     "metadata": {},
     "output_type": "display_data"
    }
   ],
   "source": [
    "plot_mean_age(df_klk10, 'KLK10')"
   ]
  }
 ],
 "metadata": {
  "kernelspec": {
   "display_name": "meth-env",
   "language": "python",
   "name": "python3"
  },
  "language_info": {
   "codemirror_mode": {
    "name": "ipython",
    "version": 3
   },
   "file_extension": ".py",
   "mimetype": "text/x-python",
   "name": "python",
   "nbconvert_exporter": "python",
   "pygments_lexer": "ipython3",
   "version": "3.11.4"
  }
 },
 "nbformat": 4,
 "nbformat_minor": 2
}
