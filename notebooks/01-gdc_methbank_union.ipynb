{
 "cells": [
  {
   "cell_type": "markdown",
   "metadata": {},
   "source": [
    "# Cruce de datos entre base de datos GDC y methbank"
   ]
  },
  {
   "cell_type": "markdown",
   "metadata": {},
   "source": [
    "En el siguiente notebook se cruzan las bases de datos mencionadas, obteniendo un dataset unificado simple (menos columnas y sin valores faltantes)."
   ]
  },
  {
   "cell_type": "code",
   "execution_count": 1,
   "metadata": {},
   "outputs": [],
   "source": [
    "import sys\n",
    "from pathlib import Path\n",
    "import os\n",
    "\n",
    "src_path = str(Path.cwd().parents[0] / \"src\")\n",
    "if src_path not in sys.path:\n",
    "    sys.path.append(src_path)\n",
    "\n",
    "data_raw_path = str(Path.cwd().parents[0] / \"data\" / \"raw\")\n",
    "data_path = str(Path.cwd().parents[0] / \"data\" )\n",
    "\n",
    "from get_data import create_folders\n",
    "import pandas as pd"
   ]
  },
  {
   "cell_type": "code",
   "execution_count": 15,
   "metadata": {},
   "outputs": [],
   "source": [
    "def read_methbank_data(filename, rows_to_read):\n",
    "  '''\n",
    "  - filename: Nombre del archivo .gz en donde está la data del methbank\n",
    "  - cols_to_read: \n",
    "  '''\n",
    "  mapper = {x:False for x in rows_to_read}\n",
    "\n",
    "  breast_f = pd.read_csv(filename, sep='\\t', compression='gzip',\n",
    "                           skiprows = lambda x: mapper.get(x-1, True),\n",
    "                             header=None, quotechar='\"', on_bad_lines='skip')\n",
    "  breast_f_columns = list(breast_f.iloc[:, 0])\n",
    "  breast_f = breast_f.iloc[:, 1:].T\n",
    "  breast_f.columns = breast_f_columns\n",
    "\n",
    "  return breast_f"
   ]
  },
  {
   "cell_type": "markdown",
   "metadata": {},
   "source": [
    "Para evitar un uso ineficiente de memoria, se leen primero los datos correspondientes a los identificadores de sitios CpG"
   ]
  },
  {
   "cell_type": "code",
   "execution_count": 7,
   "metadata": {},
   "outputs": [],
   "source": [
    "# Revisar columnas en común\n",
    "gdc_cols = pd.read_csv(f\"{data_raw_path}/brca_27k.csv\", sep='\\t', nrows=1, header = 0) #pd.read_csv('data_gdc.csv', nrows = 1, header=0)\n",
    "methbank_cols = pd.read_csv(f\"{data_raw_path}/breast_F.txt.gz\", compression='gzip', sep=\"\\t\", quotechar='\"', on_bad_lines='skip', usecols= ['probe'])\n",
    "common_cols = list(set(methbank_cols['probe']) & (set(gdc_cols.columns)))"
   ]
  },
  {
   "cell_type": "code",
   "execution_count": 14,
   "metadata": {},
   "outputs": [
    {
     "name": "stdout",
     "output_type": "stream",
     "text": [
      "Número de CpG en común: 25978\n"
     ]
    }
   ],
   "source": [
    "print(f\"Número de CpG en común: {len(common_cols)}\")"
   ]
  },
  {
   "cell_type": "code",
   "execution_count": 16,
   "metadata": {},
   "outputs": [],
   "source": [
    "# Sitios CpG están en columna, se determinan que filas contienen los CpG en común\n",
    "rows_to_read = methbank_cols[methbank_cols['probe'].isin(list(common_cols))].index\n",
    "df_methbank = read_methbank_data(f\"{data_raw_path}/breast_F.txt.gz\", rows_to_read)"
   ]
  },
  {
   "cell_type": "code",
   "execution_count": 18,
   "metadata": {},
   "outputs": [],
   "source": [
    "df_gdc = pd.read_csv(f\"{data_raw_path}/brca_27k.csv\", sep=\"\\t\")"
   ]
  },
  {
   "cell_type": "code",
   "execution_count": 20,
   "metadata": {},
   "outputs": [],
   "source": [
    "# Toda la data del methbank es tejido normal, se añade variable equivalente a la del gdc\n",
    "df_methbank['sample_type'] = 'Solid Tissue Normal'\n",
    "# Se unen dataframes\n",
    "df_union = pd.concat([df_methbank, df_gdc[common_cols + ['sample_type']]], ignore_index=True)\n",
    "#df_union = df_union.dropna(axis=1)"
   ]
  },
  {
   "cell_type": "code",
   "execution_count": 25,
   "metadata": {},
   "outputs": [],
   "source": [
    "# No se usan muestras metastaticas\n",
    "df_union = df_union[df_union['sample_type']!='Metastatic']"
   ]
  },
  {
   "cell_type": "code",
   "execution_count": 27,
   "metadata": {},
   "outputs": [],
   "source": [
    "# Quitar sitios CpG con nulos\n",
    "df_union = df_union.dropna(axis=1)"
   ]
  },
  {
   "cell_type": "code",
   "execution_count": 29,
   "metadata": {},
   "outputs": [
    {
     "name": "stdout",
     "output_type": "stream",
     "text": [
      "(804, 15775)\n"
     ]
    }
   ],
   "source": [
    "print(df_union.shape)\n",
    "data_preprocessed_path = f\"{data_path}/preprocessed\"\n",
    "create_folders(data_preprocessed_path)\n",
    "# Guardar datos\n",
    "df_union.to_csv(f\"{data_preprocessed_path}/gdc_methbank.csv\", index=False)"
   ]
  }
 ],
 "metadata": {
  "kernelspec": {
   "display_name": "meth-env",
   "language": "python",
   "name": "python3"
  },
  "language_info": {
   "codemirror_mode": {
    "name": "ipython",
    "version": 3
   },
   "file_extension": ".py",
   "mimetype": "text/x-python",
   "name": "python",
   "nbconvert_exporter": "python",
   "pygments_lexer": "ipython3",
   "version": "3.11.4"
  },
  "orig_nbformat": 4
 },
 "nbformat": 4,
 "nbformat_minor": 2
}
