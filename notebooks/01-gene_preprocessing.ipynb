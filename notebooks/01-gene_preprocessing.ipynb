{
 "cells": [
  {
   "attachments": {},
   "cell_type": "markdown",
   "metadata": {},
   "source": [
    "# Limpieza y obtención de genes"
   ]
  },
  {
   "attachments": {},
   "cell_type": "markdown",
   "metadata": {},
   "source": [
    "En el siguiente notebook se limpian los datos de perfil de metilación, se mapean los sitios CpG a genes y se guardan los datos ya limpios"
   ]
  },
  {
   "attachments": {},
   "cell_type": "markdown",
   "metadata": {},
   "source": [
    "## Librerías y paths"
   ]
  },
  {
   "cell_type": "code",
   "execution_count": 29,
   "metadata": {},
   "outputs": [],
   "source": [
    "import sys\n",
    "from pathlib import Path\n",
    "import os\n",
    "\n",
    "src_path = str(Path.cwd().parents[0] / \"src\")\n",
    "if src_path not in sys.path:\n",
    "    sys.path.append(src_path)\n",
    "\n",
    "data_raw_path = str(Path.cwd().parents[0] / \"data\" / \"raw\")\n",
    "data_path = str(Path.cwd().parents[0] / \"data\" )\n",
    "\n",
    "from gene_preprocessing import get_gene_df\n",
    "from get_data import create_folders\n",
    "import pandas as pd"
   ]
  },
  {
   "cell_type": "code",
   "execution_count": 6,
   "metadata": {},
   "outputs": [
    {
     "name": "stderr",
     "output_type": "stream",
     "text": [
      "C:\\Users\\drago\\AppData\\Local\\Temp\\ipykernel_11044\\3641719401.py:2: DtypeWarning: Columns (2,4,11,14,15) have mixed types. Specify dtype option on import or set low_memory=False.\n",
      "  df_manifest = pd.read_csv(f\"{data_raw_path}/manifest.csv\")\n"
     ]
    }
   ],
   "source": [
    "df_gdc = pd.read_csv(f\"{data_raw_path}/brca_27k.csv\", sep=\"\\t\")\n",
    "df_manifest = pd.read_csv(f\"{data_raw_path}/manifest.csv\")"
   ]
  },
  {
   "attachments": {},
   "cell_type": "markdown",
   "metadata": {},
   "source": [
    "## Limpieza y mapeo"
   ]
  },
  {
   "cell_type": "code",
   "execution_count": 31,
   "metadata": {},
   "outputs": [],
   "source": [
    "# Quitar edades NAN\n",
    "df_gdc  = df_gdc.dropna(subset = ['age'])\n",
    "# Quitar columnas con na\n",
    "df_gdc  = df_gdc.dropna(axis=1)\n",
    "# Quitar datos de metastasis\n",
    "df_gdc = df_gdc[df_gdc['sample_type']!='Metastatic']\n",
    "df_gdc = df_gdc.drop(columns = ['Unnamed: 0'])"
   ]
  },
  {
   "cell_type": "code",
   "execution_count": 17,
   "metadata": {},
   "outputs": [],
   "source": [
    "# Dejar sólo columnas importantes, quitar aquellas filas que no aparecen en Illumina 27k\n",
    "manifest_no_na = df_manifest[[\"IlmnID\", \"UCSC_RefGene_Name\", \"Methyl27_Loci\"]].dropna()\n",
    "# Crear mapeo gen->lista de CpG\n",
    "mapping = manifest_no_na[[\"IlmnID\", \"UCSC_RefGene_Name\"]].groupby(by=\"UCSC_RefGene_Name\").agg(lambda x: x.tolist())\n",
    "mapping = mapping.reset_index()"
   ]
  },
  {
   "cell_type": "code",
   "execution_count": 18,
   "metadata": {},
   "outputs": [],
   "source": [
    "# Obtener mapeo\n",
    "df_gene = get_gene_df(df_gdc, mapping)\n",
    "# Limpiar columnas NAN \n",
    "df_gene = df_gene.dropna(axis=1)"
   ]
  },
  {
   "cell_type": "code",
   "execution_count": 24,
   "metadata": {},
   "outputs": [],
   "source": [
    "# Concatenarle variables de interés\n",
    "df_gene = pd.concat([df_gene, df_gdc[['sample_type', 'age', 'race', 'etnia']]], axis =1)"
   ]
  },
  {
   "cell_type": "code",
   "execution_count": 32,
   "metadata": {},
   "outputs": [],
   "source": [
    "data_preprocessed_path = f\"{data_path}/preprocessed\"\n",
    "create_folders(data_preprocessed_path)\n",
    "# Guardar datos\n",
    "df_gene.to_csv(f\"{data_preprocessed_path}/gene_preprocessed.csv\", index=False)\n",
    "df_gdc.to_csv(f\"{data_preprocessed_path}/cpg_preprocessed.csv\", index=False)"
   ]
  }
 ],
 "metadata": {
  "kernelspec": {
   "display_name": "meth-env",
   "language": "python",
   "name": "python3"
  },
  "language_info": {
   "codemirror_mode": {
    "name": "ipython",
    "version": 3
   },
   "file_extension": ".py",
   "mimetype": "text/x-python",
   "name": "python",
   "nbconvert_exporter": "python",
   "pygments_lexer": "ipython3",
   "version": "3.11.4"
  },
  "orig_nbformat": 4
 },
 "nbformat": 4,
 "nbformat_minor": 2
}
